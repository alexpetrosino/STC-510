{
  "nbformat": 4,
  "nbformat_minor": 0,
  "metadata": {
    "colab": {
      "name": "Module3Project",
      "provenance": [],
      "collapsed_sections": []
    },
    "kernelspec": {
      "name": "python3",
      "display_name": "Python 3"
    }
  },
  "cells": [
    {
      "cell_type": "code",
      "metadata": {
        "id": "WK3oZAF9YICk"
      },
      "source": [
        "import pandas as pd\r\n",
        "import re\r\n",
        "import numpy as np"
      ],
      "execution_count": 130,
      "outputs": []
    },
    {
      "cell_type": "markdown",
      "metadata": {
        "id": "4eAnX66KZoRA"
      },
      "source": [
        "I am importing the csv. I could also use Urllib to pull form url but I like csv's. I limited the rows as I kept getting an error in row 131,000."
      ]
    },
    {
      "cell_type": "code",
      "metadata": {
        "id": "hAF_lg44YMzi",
        "colab": {
          "base_uri": "https://localhost:8080/"
        },
        "outputId": "b5ebd0eb-3376-476c-a818-bc116fdd12c6"
      },
      "source": [
        "\r\n",
        "badstuff= pd.read_csv('Crimes.csv',engine='python',error_bad_lines=False, index_col='INC NUMBER')"
      ],
      "execution_count": 134,
      "outputs": [
        {
          "output_type": "stream",
          "text": [
            "Skipping line 131678: unexpected end of data\n"
          ],
          "name": "stderr"
        }
      ]
    },
    {
      "cell_type": "markdown",
      "metadata": {
        "id": "q09HqhomsZom"
      },
      "source": [
        "I wanted all the columns to be lower case and spaces to be replaced by _. I used this replace method for it."
      ]
    },
    {
      "cell_type": "code",
      "metadata": {
        "id": "vFWekMj2Y4pO"
      },
      "source": [
        "badstuff.columns = badstuff.columns.str.strip().str.lower().str.replace(' ', '_').str.replace('(', '').str.replace(')', '')"
      ],
      "execution_count": 135,
      "outputs": []
    },
    {
      "cell_type": "markdown",
      "metadata": {
        "id": "KefclWavmp8H"
      },
      "source": [
        "I am going to see the info and describe methods to get a better idea of the data."
      ]
    },
    {
      "cell_type": "code",
      "metadata": {
        "colab": {
          "base_uri": "https://localhost:8080/"
        },
        "id": "wo6dn-i7mxBN",
        "outputId": "88a33f36-174a-4739-fb0a-a3760c214322"
      },
      "source": [
        "badstuff.info()"
      ],
      "execution_count": 136,
      "outputs": [
        {
          "output_type": "stream",
          "text": [
            "<class 'pandas.core.frame.DataFrame'>\n",
            "Index: 131676 entries, 201600000052855 to 201700002030009\n",
            "Data columns (total 6 columns):\n",
            " #   Column              Non-Null Count   Dtype  \n",
            "---  ------              --------------   -----  \n",
            " 0   occurred_on         131360 non-null  object \n",
            " 1   occurred_to         93174 non-null   object \n",
            " 2   ucr_crime_category  131676 non-null  object \n",
            " 3   100_block_addr      131676 non-null  object \n",
            " 4   zip                 131673 non-null  float64\n",
            " 5   premise_type        130919 non-null  object \n",
            "dtypes: float64(1), object(5)\n",
            "memory usage: 7.0+ MB\n"
          ],
          "name": "stdout"
        }
      ]
    },
    {
      "cell_type": "markdown",
      "metadata": {
        "id": "MJFgVj9KnFS7"
      },
      "source": [
        "After performing the describe, I realize its the only column with floats. Hence why its the only one that appears. "
      ]
    },
    {
      "cell_type": "code",
      "metadata": {
        "colab": {
          "base_uri": "https://localhost:8080/",
          "height": 297
        },
        "id": "5lwYb24fm9Bj",
        "outputId": "6603df27-5dda-4f84-cc22-1568d00df7d4"
      },
      "source": [
        "badstuff.describe()"
      ],
      "execution_count": 137,
      "outputs": [
        {
          "output_type": "execute_result",
          "data": {
            "text/html": [
              "<div>\n",
              "<style scoped>\n",
              "    .dataframe tbody tr th:only-of-type {\n",
              "        vertical-align: middle;\n",
              "    }\n",
              "\n",
              "    .dataframe tbody tr th {\n",
              "        vertical-align: top;\n",
              "    }\n",
              "\n",
              "    .dataframe thead th {\n",
              "        text-align: right;\n",
              "    }\n",
              "</style>\n",
              "<table border=\"1\" class=\"dataframe\">\n",
              "  <thead>\n",
              "    <tr style=\"text-align: right;\">\n",
              "      <th></th>\n",
              "      <th>zip</th>\n",
              "    </tr>\n",
              "  </thead>\n",
              "  <tbody>\n",
              "    <tr>\n",
              "      <th>count</th>\n",
              "      <td>131673.000000</td>\n",
              "    </tr>\n",
              "    <tr>\n",
              "      <th>mean</th>\n",
              "      <td>85045.098289</td>\n",
              "    </tr>\n",
              "    <tr>\n",
              "      <th>std</th>\n",
              "      <td>72.009780</td>\n",
              "    </tr>\n",
              "    <tr>\n",
              "      <th>min</th>\n",
              "      <td>85003.000000</td>\n",
              "    </tr>\n",
              "    <tr>\n",
              "      <th>25%</th>\n",
              "      <td>85016.000000</td>\n",
              "    </tr>\n",
              "    <tr>\n",
              "      <th>50%</th>\n",
              "      <td>85027.000000</td>\n",
              "    </tr>\n",
              "    <tr>\n",
              "      <th>75%</th>\n",
              "      <td>85041.000000</td>\n",
              "    </tr>\n",
              "    <tr>\n",
              "      <th>max</th>\n",
              "      <td>85396.000000</td>\n",
              "    </tr>\n",
              "  </tbody>\n",
              "</table>\n",
              "</div>"
            ],
            "text/plain": [
              "                 zip\n",
              "count  131673.000000\n",
              "mean    85045.098289\n",
              "std        72.009780\n",
              "min     85003.000000\n",
              "25%     85016.000000\n",
              "50%     85027.000000\n",
              "75%     85041.000000\n",
              "max     85396.000000"
            ]
          },
          "metadata": {
            "tags": []
          },
          "execution_count": 137
        }
      ]
    },
    {
      "cell_type": "markdown",
      "metadata": {
        "id": "n9-srflYnLrW"
      },
      "source": [
        "I want to see how many different zip codes and different places their are for this data. "
      ]
    },
    {
      "cell_type": "code",
      "metadata": {
        "colab": {
          "base_uri": "https://localhost:8080/"
        },
        "id": "a5S4_Cjqoets",
        "outputId": "77e6efba-626d-4107-e7df-ce9c5411e8da"
      },
      "source": [
        "badstuff.zip.value_counts()"
      ],
      "execution_count": 138,
      "outputs": [
        {
          "output_type": "execute_result",
          "data": {
            "text/plain": [
              "85015.0    6963\n",
              "85008.0    6320\n",
              "85009.0    5513\n",
              "85041.0    5477\n",
              "85051.0    5389\n",
              "           ... \n",
              "85248.0       1\n",
              "85233.0       1\n",
              "85226.0       1\n",
              "85204.0       1\n",
              "85212.0       1\n",
              "Name: zip, Length: 98, dtype: int64"
            ]
          },
          "metadata": {
            "tags": []
          },
          "execution_count": 138
        }
      ]
    },
    {
      "cell_type": "code",
      "metadata": {
        "colab": {
          "base_uri": "https://localhost:8080/"
        },
        "id": "dBXp9Q9jpGxw",
        "outputId": "2c9f8bde-ddc2-48e9-cbc1-b52bc00df937"
      },
      "source": [
        "badstuff.premise_type.value_counts()"
      ],
      "execution_count": 139,
      "outputs": [
        {
          "output_type": "execute_result",
          "data": {
            "text/plain": [
              "SINGLE FAMILY HOUSE                    25329\n",
              "APARTMENT                              14957\n",
              "PARKING LOT                            14148\n",
              "STREET / ROADWAY / ALLEY / SIDEWALK    11596\n",
              "RETAIL BUSINESS                        10852\n",
              "                                       ...  \n",
              "FARM FACILITY                              3\n",
              "GAMBLING FACILITY/CASINO/RACE TRACK        2\n",
              "LAKE / WATERWAY / BEACH                    1\n",
              "REST AREA                                  1\n",
              "TRIBAL LANDS                               1\n",
              "Name: premise_type, Length: 93, dtype: int64"
            ]
          },
          "metadata": {
            "tags": []
          },
          "execution_count": 139
        }
      ]
    },
    {
      "cell_type": "markdown",
      "metadata": {
        "id": "01MhjErrssy3"
      },
      "source": [
        "Now I want to sort the data. I am going to sort based on place.\r\n"
      ]
    },
    {
      "cell_type": "code",
      "metadata": {
        "colab": {
          "base_uri": "https://localhost:8080/",
          "height": 620
        },
        "id": "xl-B3szJtA5N",
        "outputId": "fde89ae6-91fe-48ee-a3f0-9a6b612b5f74"
      },
      "source": [
        "badstuff.sort_values(by=['premise_type','ucr_crime_category'])"
      ],
      "execution_count": 140,
      "outputs": [
        {
          "output_type": "execute_result",
          "data": {
            "text/html": [
              "<div>\n",
              "<style scoped>\n",
              "    .dataframe tbody tr th:only-of-type {\n",
              "        vertical-align: middle;\n",
              "    }\n",
              "\n",
              "    .dataframe tbody tr th {\n",
              "        vertical-align: top;\n",
              "    }\n",
              "\n",
              "    .dataframe thead th {\n",
              "        text-align: right;\n",
              "    }\n",
              "</style>\n",
              "<table border=\"1\" class=\"dataframe\">\n",
              "  <thead>\n",
              "    <tr style=\"text-align: right;\">\n",
              "      <th></th>\n",
              "      <th>occurred_on</th>\n",
              "      <th>occurred_to</th>\n",
              "      <th>ucr_crime_category</th>\n",
              "      <th>100_block_addr</th>\n",
              "      <th>zip</th>\n",
              "      <th>premise_type</th>\n",
              "    </tr>\n",
              "    <tr>\n",
              "      <th>INC NUMBER</th>\n",
              "      <th></th>\n",
              "      <th></th>\n",
              "      <th></th>\n",
              "      <th></th>\n",
              "      <th></th>\n",
              "      <th></th>\n",
              "    </tr>\n",
              "  </thead>\n",
              "  <tbody>\n",
              "    <tr>\n",
              "      <th>201700001438721</th>\n",
              "      <td>08/17/2017  04:45</td>\n",
              "      <td>NaN</td>\n",
              "      <td>AGGRAVATED ASSAULT</td>\n",
              "      <td>28XX E THOMAS RD</td>\n",
              "      <td>85008.0</td>\n",
              "      <td>ABANDONED/CONDEMNED STRUCTURE</td>\n",
              "    </tr>\n",
              "    <tr>\n",
              "      <th>201700001592053</th>\n",
              "      <td>09/10/2017  14:46</td>\n",
              "      <td>NaN</td>\n",
              "      <td>AGGRAVATED ASSAULT</td>\n",
              "      <td>27XX N 24TH ST</td>\n",
              "      <td>85006.0</td>\n",
              "      <td>ABANDONED/CONDEMNED STRUCTURE</td>\n",
              "    </tr>\n",
              "    <tr>\n",
              "      <th>201700002024523</th>\n",
              "      <td>11/17/2017  05:34</td>\n",
              "      <td>NaN</td>\n",
              "      <td>AGGRAVATED ASSAULT</td>\n",
              "      <td>8XX N 59TH AVE</td>\n",
              "      <td>85043.0</td>\n",
              "      <td>ABANDONED/CONDEMNED STRUCTURE</td>\n",
              "    </tr>\n",
              "    <tr>\n",
              "      <th>201700001041461</th>\n",
              "      <td>05/25/2017  00:01</td>\n",
              "      <td>06/14/2017  19:00</td>\n",
              "      <td>BURGLARY</td>\n",
              "      <td>15XX W HATCHER RD</td>\n",
              "      <td>85021.0</td>\n",
              "      <td>ABANDONED/CONDEMNED STRUCTURE</td>\n",
              "    </tr>\n",
              "    <tr>\n",
              "      <th>201800001626635</th>\n",
              "      <td>07/01/2017  12:00</td>\n",
              "      <td>05/01/2018  12:00</td>\n",
              "      <td>BURGLARY</td>\n",
              "      <td>13XX S 40TH AVE</td>\n",
              "      <td>85009.0</td>\n",
              "      <td>ABANDONED/CONDEMNED STRUCTURE</td>\n",
              "    </tr>\n",
              "    <tr>\n",
              "      <th>...</th>\n",
              "      <td>...</td>\n",
              "      <td>...</td>\n",
              "      <td>...</td>\n",
              "      <td>...</td>\n",
              "      <td>...</td>\n",
              "      <td>...</td>\n",
              "    </tr>\n",
              "    <tr>\n",
              "      <th>201700000209468</th>\n",
              "      <td>02/04/2017  20:15</td>\n",
              "      <td>02/04/2017  20:19</td>\n",
              "      <td>ROBBERY</td>\n",
              "      <td>36XX W THOMAS RD</td>\n",
              "      <td>85009.0</td>\n",
              "      <td>NaN</td>\n",
              "    </tr>\n",
              "    <tr>\n",
              "      <th>201700000973263</th>\n",
              "      <td>06/04/2017  21:40</td>\n",
              "      <td>NaN</td>\n",
              "      <td>ROBBERY</td>\n",
              "      <td>N 36TH AVE &amp; W EVA ST</td>\n",
              "      <td>85051.0</td>\n",
              "      <td>NaN</td>\n",
              "    </tr>\n",
              "    <tr>\n",
              "      <th>201700001432313</th>\n",
              "      <td>08/16/2017  03:43</td>\n",
              "      <td>08/16/2017  03:43</td>\n",
              "      <td>ROBBERY</td>\n",
              "      <td>N 7TH AVE &amp; W COLTER ST</td>\n",
              "      <td>85013.0</td>\n",
              "      <td>NaN</td>\n",
              "    </tr>\n",
              "    <tr>\n",
              "      <th>201700001855384</th>\n",
              "      <td>10/21/2017  21:45</td>\n",
              "      <td>NaN</td>\n",
              "      <td>ROBBERY</td>\n",
              "      <td>95XX W MONTE VISTA RD</td>\n",
              "      <td>85037.0</td>\n",
              "      <td>NaN</td>\n",
              "    </tr>\n",
              "    <tr>\n",
              "      <th>201700002016800</th>\n",
              "      <td>11/15/2017  20:00</td>\n",
              "      <td>NaN</td>\n",
              "      <td>ROBBERY</td>\n",
              "      <td>18XX W CAMELBACK RD</td>\n",
              "      <td>85015.0</td>\n",
              "      <td>NaN</td>\n",
              "    </tr>\n",
              "  </tbody>\n",
              "</table>\n",
              "<p>131676 rows × 6 columns</p>\n",
              "</div>"
            ],
            "text/plain": [
              "                       occurred_on  ...                   premise_type\n",
              "INC NUMBER                          ...                               \n",
              "201700001438721  08/17/2017  04:45  ...  ABANDONED/CONDEMNED STRUCTURE\n",
              "201700001592053  09/10/2017  14:46  ...  ABANDONED/CONDEMNED STRUCTURE\n",
              "201700002024523  11/17/2017  05:34  ...  ABANDONED/CONDEMNED STRUCTURE\n",
              "201700001041461  05/25/2017  00:01  ...  ABANDONED/CONDEMNED STRUCTURE\n",
              "201800001626635  07/01/2017  12:00  ...  ABANDONED/CONDEMNED STRUCTURE\n",
              "...                            ...  ...                            ...\n",
              "201700000209468  02/04/2017  20:15  ...                            NaN\n",
              "201700000973263  06/04/2017  21:40  ...                            NaN\n",
              "201700001432313  08/16/2017  03:43  ...                            NaN\n",
              "201700001855384  10/21/2017  21:45  ...                            NaN\n",
              "201700002016800  11/15/2017  20:00  ...                            NaN\n",
              "\n",
              "[131676 rows x 6 columns]"
            ]
          },
          "metadata": {
            "tags": []
          },
          "execution_count": 140
        }
      ]
    },
    {
      "cell_type": "markdown",
      "metadata": {
        "id": "kVVr-51Uu_fB"
      },
      "source": [
        "I am going to look at the different premises and which types of crimes are most common in each.\r\n"
      ]
    },
    {
      "cell_type": "code",
      "metadata": {
        "id": "8GGodZBDvKvo"
      },
      "source": [
        "places =badstuff.groupby('premise_type')"
      ],
      "execution_count": 141,
      "outputs": []
    },
    {
      "cell_type": "code",
      "metadata": {
        "colab": {
          "base_uri": "https://localhost:8080/",
          "height": 481
        },
        "id": "Y0znaX39wcKz",
        "outputId": "affbd9f7-1a74-447d-9bcc-a2118acce92e"
      },
      "source": [
        "places.describe()"
      ],
      "execution_count": 142,
      "outputs": [
        {
          "output_type": "execute_result",
          "data": {
            "text/html": [
              "<div>\n",
              "<style scoped>\n",
              "    .dataframe tbody tr th:only-of-type {\n",
              "        vertical-align: middle;\n",
              "    }\n",
              "\n",
              "    .dataframe tbody tr th {\n",
              "        vertical-align: top;\n",
              "    }\n",
              "\n",
              "    .dataframe thead tr th {\n",
              "        text-align: left;\n",
              "    }\n",
              "\n",
              "    .dataframe thead tr:last-of-type th {\n",
              "        text-align: right;\n",
              "    }\n",
              "</style>\n",
              "<table border=\"1\" class=\"dataframe\">\n",
              "  <thead>\n",
              "    <tr>\n",
              "      <th></th>\n",
              "      <th colspan=\"8\" halign=\"left\">zip</th>\n",
              "    </tr>\n",
              "    <tr>\n",
              "      <th></th>\n",
              "      <th>count</th>\n",
              "      <th>mean</th>\n",
              "      <th>std</th>\n",
              "      <th>min</th>\n",
              "      <th>25%</th>\n",
              "      <th>50%</th>\n",
              "      <th>75%</th>\n",
              "      <th>max</th>\n",
              "    </tr>\n",
              "    <tr>\n",
              "      <th>premise_type</th>\n",
              "      <th></th>\n",
              "      <th></th>\n",
              "      <th></th>\n",
              "      <th></th>\n",
              "      <th></th>\n",
              "      <th></th>\n",
              "      <th></th>\n",
              "      <th></th>\n",
              "    </tr>\n",
              "  </thead>\n",
              "  <tbody>\n",
              "    <tr>\n",
              "      <th>ABANDONED/CONDEMNED STRUCTURE</th>\n",
              "      <td>9.0</td>\n",
              "      <td>85025.333333</td>\n",
              "      <td>17.226433</td>\n",
              "      <td>85006.0</td>\n",
              "      <td>85009.00</td>\n",
              "      <td>85021.0</td>\n",
              "      <td>85042.0</td>\n",
              "      <td>85051.0</td>\n",
              "    </tr>\n",
              "    <tr>\n",
              "      <th>ADULT ONLY STORE / MOVIE</th>\n",
              "      <td>62.0</td>\n",
              "      <td>85027.919355</td>\n",
              "      <td>15.990057</td>\n",
              "      <td>85006.0</td>\n",
              "      <td>85014.25</td>\n",
              "      <td>85031.0</td>\n",
              "      <td>85034.0</td>\n",
              "      <td>85085.0</td>\n",
              "    </tr>\n",
              "    <tr>\n",
              "      <th>AIRPORT</th>\n",
              "      <td>626.0</td>\n",
              "      <td>85034.164537</td>\n",
              "      <td>12.920189</td>\n",
              "      <td>85003.0</td>\n",
              "      <td>85034.00</td>\n",
              "      <td>85034.0</td>\n",
              "      <td>85034.0</td>\n",
              "      <td>85255.0</td>\n",
              "    </tr>\n",
              "    <tr>\n",
              "      <th>AMUSEMENT PARK</th>\n",
              "      <td>11.0</td>\n",
              "      <td>85093.363636</td>\n",
              "      <td>107.601369</td>\n",
              "      <td>85023.0</td>\n",
              "      <td>85051.00</td>\n",
              "      <td>85051.0</td>\n",
              "      <td>85051.0</td>\n",
              "      <td>85310.0</td>\n",
              "    </tr>\n",
              "    <tr>\n",
              "      <th>APARTMENT</th>\n",
              "      <td>14956.0</td>\n",
              "      <td>85030.026143</td>\n",
              "      <td>41.018570</td>\n",
              "      <td>85003.0</td>\n",
              "      <td>85015.00</td>\n",
              "      <td>85021.0</td>\n",
              "      <td>85034.0</td>\n",
              "      <td>85396.0</td>\n",
              "    </tr>\n",
              "    <tr>\n",
              "      <th>...</th>\n",
              "      <td>...</td>\n",
              "      <td>...</td>\n",
              "      <td>...</td>\n",
              "      <td>...</td>\n",
              "      <td>...</td>\n",
              "      <td>...</td>\n",
              "      <td>...</td>\n",
              "      <td>...</td>\n",
              "    </tr>\n",
              "    <tr>\n",
              "      <th>TRAIN STATION</th>\n",
              "      <td>22.0</td>\n",
              "      <td>85035.045455</td>\n",
              "      <td>62.276249</td>\n",
              "      <td>85003.0</td>\n",
              "      <td>85009.00</td>\n",
              "      <td>85032.5</td>\n",
              "      <td>85034.0</td>\n",
              "      <td>85307.0</td>\n",
              "    </tr>\n",
              "    <tr>\n",
              "      <th>TRIBAL LANDS</th>\n",
              "      <td>1.0</td>\n",
              "      <td>85043.000000</td>\n",
              "      <td>NaN</td>\n",
              "      <td>85043.0</td>\n",
              "      <td>85043.00</td>\n",
              "      <td>85043.0</td>\n",
              "      <td>85043.0</td>\n",
              "      <td>85043.0</td>\n",
              "    </tr>\n",
              "    <tr>\n",
              "      <th>UNKNOWN</th>\n",
              "      <td>792.0</td>\n",
              "      <td>85049.345960</td>\n",
              "      <td>79.258664</td>\n",
              "      <td>85003.0</td>\n",
              "      <td>85014.00</td>\n",
              "      <td>85027.0</td>\n",
              "      <td>85041.0</td>\n",
              "      <td>85395.0</td>\n",
              "    </tr>\n",
              "    <tr>\n",
              "      <th>VEHICLE</th>\n",
              "      <td>6844.0</td>\n",
              "      <td>85051.372443</td>\n",
              "      <td>79.431310</td>\n",
              "      <td>85003.0</td>\n",
              "      <td>85017.00</td>\n",
              "      <td>85031.0</td>\n",
              "      <td>85042.0</td>\n",
              "      <td>85392.0</td>\n",
              "    </tr>\n",
              "    <tr>\n",
              "      <th>WAREHOUSE / FACTORY</th>\n",
              "      <td>341.0</td>\n",
              "      <td>85030.571848</td>\n",
              "      <td>31.411196</td>\n",
              "      <td>85003.0</td>\n",
              "      <td>85013.00</td>\n",
              "      <td>85034.0</td>\n",
              "      <td>85043.0</td>\n",
              "      <td>85339.0</td>\n",
              "    </tr>\n",
              "  </tbody>\n",
              "</table>\n",
              "<p>93 rows × 8 columns</p>\n",
              "</div>"
            ],
            "text/plain": [
              "                                   zip                ...                  \n",
              "                                 count          mean  ...      75%      max\n",
              "premise_type                                          ...                  \n",
              "ABANDONED/CONDEMNED STRUCTURE      9.0  85025.333333  ...  85042.0  85051.0\n",
              "ADULT ONLY STORE / MOVIE          62.0  85027.919355  ...  85034.0  85085.0\n",
              "AIRPORT                          626.0  85034.164537  ...  85034.0  85255.0\n",
              "AMUSEMENT PARK                    11.0  85093.363636  ...  85051.0  85310.0\n",
              "APARTMENT                      14956.0  85030.026143  ...  85034.0  85396.0\n",
              "...                                ...           ...  ...      ...      ...\n",
              "TRAIN STATION                     22.0  85035.045455  ...  85034.0  85307.0\n",
              "TRIBAL LANDS                       1.0  85043.000000  ...  85043.0  85043.0\n",
              "UNKNOWN                          792.0  85049.345960  ...  85041.0  85395.0\n",
              "VEHICLE                         6844.0  85051.372443  ...  85042.0  85392.0\n",
              "WAREHOUSE / FACTORY              341.0  85030.571848  ...  85043.0  85339.0\n",
              "\n",
              "[93 rows x 8 columns]"
            ]
          },
          "metadata": {
            "tags": []
          },
          "execution_count": 142
        }
      ]
    },
    {
      "cell_type": "markdown",
      "metadata": {
        "id": "SXjZIXtLzWD-"
      },
      "source": [
        "Import matplotlib to make graphs eventually"
      ]
    },
    {
      "cell_type": "code",
      "metadata": {
        "id": "o2wQM1a6yGHv"
      },
      "source": [
        "import matplotlib  as plot"
      ],
      "execution_count": 143,
      "outputs": []
    },
    {
      "cell_type": "markdown",
      "metadata": {
        "id": "90gOdK3qHETk"
      },
      "source": [
        "Want to graph the 10 highest areas of crime in the Phoenix area."
      ]
    },
    {
      "cell_type": "code",
      "metadata": {
        "colab": {
          "base_uri": "https://localhost:8080/",
          "height": 486
        },
        "id": "m3kXRU-OFEaN",
        "outputId": "7a21f641-19d8-4b85-c4fb-90b61f13bf05"
      },
      "source": [
        "places.zip.count().sort_values(ascending=False).iloc[1:10].plot.bar()"
      ],
      "execution_count": 144,
      "outputs": [
        {
          "output_type": "execute_result",
          "data": {
            "text/plain": [
              "<matplotlib.axes._subplots.AxesSubplot at 0x7f4a9ae868d0>"
            ]
          },
          "metadata": {
            "tags": []
          },
          "execution_count": 144
        },
        {
          "output_type": "display_data",
          "data": {
            "image/png": "[encoded data removed]",
            "text/plain": [
              "<Figure size 432x288 with 1 Axes>"
            ]
          },
          "metadata": {
            "tags": [],
            "needs_background": "light"
          }
        }
      ]
    },
    {
      "cell_type": "markdown",
      "metadata": {
        "id": "u-lm2Rj7zY_O"
      },
      "source": [
        "Try and make a pie chart for crime in the top 10 areas of crime."
      ]
    },
    {
      "cell_type": "code",
      "metadata": {
        "id": "ATNfWQ-uxotB"
      },
      "source": [
        "tally= places.zip.count().sort_values(ascending=False).iloc[1:10]"
      ],
      "execution_count": 145,
      "outputs": []
    },
    {
      "cell_type": "code",
      "metadata": {
        "id": "m3Y1ogL0xSIp",
        "colab": {
          "base_uri": "https://localhost:8080/"
        },
        "outputId": "a8237b99-9ad8-484a-e7d2-05b78e61e6a8"
      },
      "source": [
        "tally"
      ],
      "execution_count": 146,
      "outputs": [
        {
          "output_type": "execute_result",
          "data": {
            "text/plain": [
              "premise_type\n",
              "APARTMENT                              14956\n",
              "PARKING LOT                            14148\n",
              "STREET / ROADWAY / ALLEY / SIDEWALK    11596\n",
              "RETAIL BUSINESS                        10852\n",
              "VEHICLE                                 6844\n",
              "DRIVEWAY                                4609\n",
              "CONVENIENCE MARKET / STORE              4270\n",
              "DEPARTMENT / DISCOUNT STORE             3822\n",
              "GROCERY / SUPER MARKET                  3631\n",
              "Name: zip, dtype: int64"
            ]
          },
          "metadata": {
            "tags": []
          },
          "execution_count": 146
        }
      ]
    },
    {
      "cell_type": "code",
      "metadata": {
        "colab": {
          "base_uri": "https://localhost:8080/",
          "height": 265
        },
        "id": "e7_QHetI7_MI",
        "outputId": "7484fe11-d3b2-4452-dd0f-925b0213bb5f"
      },
      "source": [
        "tally.plot.pie()"
      ],
      "execution_count": 147,
      "outputs": [
        {
          "output_type": "execute_result",
          "data": {
            "text/plain": [
              "<matplotlib.axes._subplots.AxesSubplot at 0x7f4a9b0940f0>"
            ]
          },
          "metadata": {
            "tags": []
          },
          "execution_count": 147
        },
        {
          "output_type": "display_data",
          "data": {
            "image/png": "[encoded data removed]",
            "text/plain": [
              "<Figure size 432x288 with 1 Axes>"
            ]
          },
          "metadata": {
            "tags": []
          }
        }
      ]
    },
    {
      "cell_type": "code",
      "metadata": {
        "colab": {
          "base_uri": "https://localhost:8080/",
          "height": 450
        },
        "id": "X5FBavXe_-1S",
        "outputId": "a9fe0531-c8ea-41f7-8ce2-b16377f45d08"
      },
      "source": [
        "places.get_group('APARTMENT')"
      ],
      "execution_count": 148,
      "outputs": [
        {
          "output_type": "execute_result",
          "data": {
            "text/html": [
              "<div>\n",
              "<style scoped>\n",
              "    .dataframe tbody tr th:only-of-type {\n",
              "        vertical-align: middle;\n",
              "    }\n",
              "\n",
              "    .dataframe tbody tr th {\n",
              "        vertical-align: top;\n",
              "    }\n",
              "\n",
              "    .dataframe thead th {\n",
              "        text-align: right;\n",
              "    }\n",
              "</style>\n",
              "<table border=\"1\" class=\"dataframe\">\n",
              "  <thead>\n",
              "    <tr style=\"text-align: right;\">\n",
              "      <th></th>\n",
              "      <th>occurred_on</th>\n",
              "      <th>occurred_to</th>\n",
              "      <th>ucr_crime_category</th>\n",
              "      <th>100_block_addr</th>\n",
              "      <th>zip</th>\n",
              "      <th>premise_type</th>\n",
              "    </tr>\n",
              "    <tr>\n",
              "      <th>INC NUMBER</th>\n",
              "      <th></th>\n",
              "      <th></th>\n",
              "      <th></th>\n",
              "      <th></th>\n",
              "      <th></th>\n",
              "      <th></th>\n",
              "    </tr>\n",
              "  </thead>\n",
              "  <tbody>\n",
              "    <tr>\n",
              "      <th>201500002102327</th>\n",
              "      <td>11/01/2015  00:00</td>\n",
              "      <td>11/01/2015  09:00</td>\n",
              "      <td>LARCENY-THEFT</td>\n",
              "      <td>51XX N 15TH ST</td>\n",
              "      <td>85014.0</td>\n",
              "      <td>APARTMENT</td>\n",
              "    </tr>\n",
              "    <tr>\n",
              "      <th>201500002103724</th>\n",
              "      <td>11/01/2015  00:00</td>\n",
              "      <td>11/01/2015  15:21</td>\n",
              "      <td>DRUG OFFENSE</td>\n",
              "      <td>54XX W INDIAN SCHOOL RD</td>\n",
              "      <td>85031.0</td>\n",
              "      <td>APARTMENT</td>\n",
              "    </tr>\n",
              "    <tr>\n",
              "      <th>201500002102927</th>\n",
              "      <td>11/01/2015  04:00</td>\n",
              "      <td>11/01/2015  10:00</td>\n",
              "      <td>LARCENY-THEFT</td>\n",
              "      <td>176XX N 7TH ST</td>\n",
              "      <td>85022.0</td>\n",
              "      <td>APARTMENT</td>\n",
              "    </tr>\n",
              "    <tr>\n",
              "      <th>201500002126247</th>\n",
              "      <td>11/01/2015  05:00</td>\n",
              "      <td>11/02/2015  16:00</td>\n",
              "      <td>BURGLARY</td>\n",
              "      <td>17XX W DESERT COVE AVE</td>\n",
              "      <td>85029.0</td>\n",
              "      <td>APARTMENT</td>\n",
              "    </tr>\n",
              "    <tr>\n",
              "      <th>201500002101936</th>\n",
              "      <td>11/01/2015  09:43</td>\n",
              "      <td>NaN</td>\n",
              "      <td>DRUG OFFENSE</td>\n",
              "      <td>9XX S 17TH AVE</td>\n",
              "      <td>85007.0</td>\n",
              "      <td>APARTMENT</td>\n",
              "    </tr>\n",
              "    <tr>\n",
              "      <th>...</th>\n",
              "      <td>...</td>\n",
              "      <td>...</td>\n",
              "      <td>...</td>\n",
              "      <td>...</td>\n",
              "      <td>...</td>\n",
              "      <td>...</td>\n",
              "    </tr>\n",
              "    <tr>\n",
              "      <th>201700002023142</th>\n",
              "      <td>11/16/2017  20:45</td>\n",
              "      <td>NaN</td>\n",
              "      <td>AGGRAVATED ASSAULT</td>\n",
              "      <td>2XX W CLARENDON AVE</td>\n",
              "      <td>85013.0</td>\n",
              "      <td>APARTMENT</td>\n",
              "    </tr>\n",
              "    <tr>\n",
              "      <th>201700002024423</th>\n",
              "      <td>11/16/2017  21:00</td>\n",
              "      <td>11/17/2017  03:30</td>\n",
              "      <td>BURGLARY</td>\n",
              "      <td>38XX N 43RD AVE</td>\n",
              "      <td>85031.0</td>\n",
              "      <td>APARTMENT</td>\n",
              "    </tr>\n",
              "    <tr>\n",
              "      <th>201700002032068</th>\n",
              "      <td>11/17/2017  01:00</td>\n",
              "      <td>11/17/2017  06:00</td>\n",
              "      <td>MOTOR VEHICLE THEFT</td>\n",
              "      <td>200XX N 23RD AVE</td>\n",
              "      <td>85027.0</td>\n",
              "      <td>APARTMENT</td>\n",
              "    </tr>\n",
              "    <tr>\n",
              "      <th>201700002024361</th>\n",
              "      <td>11/17/2017  03:00</td>\n",
              "      <td>11/17/2017  03:20</td>\n",
              "      <td>AGGRAVATED ASSAULT</td>\n",
              "      <td>6XX E TOWNLEY AVE</td>\n",
              "      <td>85020.0</td>\n",
              "      <td>APARTMENT</td>\n",
              "    </tr>\n",
              "    <tr>\n",
              "      <th>201700002025582</th>\n",
              "      <td>11/17/2017  05:00</td>\n",
              "      <td>11/17/2017  09:50</td>\n",
              "      <td>MOTOR VEHICLE THEFT</td>\n",
              "      <td>43XX N 103RD AVE</td>\n",
              "      <td>85037.0</td>\n",
              "      <td>APARTMENT</td>\n",
              "    </tr>\n",
              "  </tbody>\n",
              "</table>\n",
              "<p>14957 rows × 6 columns</p>\n",
              "</div>"
            ],
            "text/plain": [
              "                       occurred_on        occurred_to  ...      zip premise_type\n",
              "INC NUMBER                                             ...                      \n",
              "201500002102327  11/01/2015  00:00  11/01/2015  09:00  ...  85014.0    APARTMENT\n",
              "201500002103724  11/01/2015  00:00  11/01/2015  15:21  ...  85031.0    APARTMENT\n",
              "201500002102927  11/01/2015  04:00  11/01/2015  10:00  ...  85022.0    APARTMENT\n",
              "201500002126247  11/01/2015  05:00  11/02/2015  16:00  ...  85029.0    APARTMENT\n",
              "201500002101936  11/01/2015  09:43                NaN  ...  85007.0    APARTMENT\n",
              "...                            ...                ...  ...      ...          ...\n",
              "201700002023142  11/16/2017  20:45                NaN  ...  85013.0    APARTMENT\n",
              "201700002024423  11/16/2017  21:00  11/17/2017  03:30  ...  85031.0    APARTMENT\n",
              "201700002032068  11/17/2017  01:00  11/17/2017  06:00  ...  85027.0    APARTMENT\n",
              "201700002024361  11/17/2017  03:00  11/17/2017  03:20  ...  85020.0    APARTMENT\n",
              "201700002025582  11/17/2017  05:00  11/17/2017  09:50  ...  85037.0    APARTMENT\n",
              "\n",
              "[14957 rows x 6 columns]"
            ]
          },
          "metadata": {
            "tags": []
          },
          "execution_count": 148
        }
      ]
    },
    {
      "cell_type": "code",
      "metadata": {
        "colab": {
          "base_uri": "https://localhost:8080/"
        },
        "id": "ewoVgc_AJBwK",
        "outputId": "e7f338b9-400d-40a0-8b60-1c393adbb0b8"
      },
      "source": [
        "places.get_group('APARTMENT').nunique()"
      ],
      "execution_count": 149,
      "outputs": [
        {
          "output_type": "execute_result",
          "data": {
            "text/plain": [
              "occurred_on           13034\n",
              "occurred_to           10694\n",
              "ucr_crime_category        9\n",
              "100_block_addr         2714\n",
              "zip                      62\n",
              "premise_type              1\n",
              "dtype: int64"
            ]
          },
          "metadata": {
            "tags": []
          },
          "execution_count": 149
        }
      ]
    },
    {
      "cell_type": "markdown",
      "metadata": {
        "id": "OO6B7HBAK0BD"
      },
      "source": [
        "Isolate the counts of crime category and graph it."
      ]
    },
    {
      "cell_type": "code",
      "metadata": {
        "colab": {
          "base_uri": "https://localhost:8080/"
        },
        "id": "JonESlXrK6Km",
        "outputId": "60ca33ac-6e66-4291-f419-28bf68e5fe8b"
      },
      "source": [
        "places.get_group('APARTMENT').groupby('ucr_crime_category').zip.count()"
      ],
      "execution_count": 150,
      "outputs": [
        {
          "output_type": "execute_result",
          "data": {
            "text/plain": [
              "ucr_crime_category\n",
              "AGGRAVATED ASSAULT                       2167\n",
              "ARSON                                      46\n",
              "BURGLARY                                 3895\n",
              "DRUG OFFENSE                              563\n",
              "LARCENY-THEFT                            5517\n",
              "MOTOR VEHICLE THEFT                      1861\n",
              "MURDER AND NON-NEGLIGENT MANSLAUGHTER      44\n",
              "RAPE                                      522\n",
              "ROBBERY                                   341\n",
              "Name: zip, dtype: int64"
            ]
          },
          "metadata": {
            "tags": []
          },
          "execution_count": 150
        }
      ]
    },
    {
      "cell_type": "code",
      "metadata": {
        "colab": {
          "base_uri": "https://localhost:8080/",
          "height": 546
        },
        "id": "ozi3cKRpLRIT",
        "outputId": "ce8408a5-738f-441e-af12-87766600d1fe"
      },
      "source": [
        "places.get_group('APARTMENT').groupby('ucr_crime_category').zip.count().plot.bar(title='Apartment Crimes')"
      ],
      "execution_count": 151,
      "outputs": [
        {
          "output_type": "execute_result",
          "data": {
            "text/plain": [
              "<matplotlib.axes._subplots.AxesSubplot at 0x7f4a9b173d68>"
            ]
          },
          "metadata": {
            "tags": []
          },
          "execution_count": 151
        },
        {
          "output_type": "display_data",
          "data": {
            "image/png": "[encoded data removed]",
            "text/plain": [
              "<Figure size 432x288 with 1 Axes>"
            ]
          },
          "metadata": {
            "tags": [],
            "needs_background": "light"
          }
        }
      ]
    }
  ]
}