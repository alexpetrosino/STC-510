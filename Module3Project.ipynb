{
  "nbformat": 4,
  "nbformat_minor": 0,
  "metadata": {
    "colab": {
      "name": "Module3Project",
      "provenance": [],
      "collapsed_sections": []
    },
    "kernelspec": {
      "name": "python3",
      "display_name": "Python 3"
    }
  },
  "cells": [
    {
      "cell_type": "code",
      "metadata": {
        "id": "WK3oZAF9YICk"
      },
      "source": [
        "import pandas as pd\r\n",
        "import re\r\n",
        "import numpy as np"
      ],
      "execution_count": 79,
      "outputs": []
    },
    {
      "cell_type": "markdown",
      "metadata": {
        "id": "4eAnX66KZoRA"
      },
      "source": [
        "I am importing the csv. I could also use Urllib to pull form url but I like csv's. I limited the rows as I kept getting an error in row 131,000."
      ]
    },
    {
      "cell_type": "code",
      "metadata": {
        "id": "hAF_lg44YMzi"
      },
      "source": [
        "nRowsRead=100000\r\n",
        "badstuff= pd.read_csv('Crimes.csv',nrows=nRowsRead, index_col='INC NUMBER')"
      ],
      "execution_count": 80,
      "outputs": []
    },
    {
      "cell_type": "markdown",
      "metadata": {
        "id": "q09HqhomsZom"
      },
      "source": [
        "I wanted all the columns to be lower case and spaces to be replaced by _. I used this replace method for it."
      ]
    },
    {
      "cell_type": "code",
      "metadata": {
        "id": "vFWekMj2Y4pO"
      },
      "source": [
        "badstuff.columns = badstuff.columns.str.strip().str.lower().str.replace(' ', '_').str.replace('(', '').str.replace(')', '')"
      ],
      "execution_count": 81,
      "outputs": []
    },
    {
      "cell_type": "markdown",
      "metadata": {
        "id": "KefclWavmp8H"
      },
      "source": [
        "I am going to see the info and describe methods to get a better idea of the data."
      ]
    },
    {
      "cell_type": "code",
      "metadata": {
        "colab": {
          "base_uri": "https://localhost:8080/"
        },
        "id": "wo6dn-i7mxBN",
        "outputId": "880235e4-616b-4224-f44a-eca404510888"
      },
      "source": [
        "badstuff.info()"
      ],
      "execution_count": 82,
      "outputs": [
        {
          "output_type": "stream",
          "text": [
            "<class 'pandas.core.frame.DataFrame'>\n",
            "Index: 100000 entries, 201600000052855 to 201700000927237\n",
            "Data columns (total 6 columns):\n",
            " #   Column              Non-Null Count   Dtype  \n",
            "---  ------              --------------   -----  \n",
            " 0   occurred_on         99739 non-null   object \n",
            " 1   occurred_to         71048 non-null   object \n",
            " 2   ucr_crime_category  100000 non-null  object \n",
            " 3   100_block_addr      100000 non-null  object \n",
            " 4   zip                 99997 non-null   float64\n",
            " 5   premise_type        99372 non-null   object \n",
            "dtypes: float64(1), object(5)\n",
            "memory usage: 5.3+ MB\n"
          ],
          "name": "stdout"
        }
      ]
    },
    {
      "cell_type": "markdown",
      "metadata": {
        "id": "MJFgVj9KnFS7"
      },
      "source": [
        "After performing the describe, I realize its the only column with floats. Hence why its the only one that appears. "
      ]
    },
    {
      "cell_type": "code",
      "metadata": {
        "colab": {
          "base_uri": "https://localhost:8080/",
          "height": 297
        },
        "id": "5lwYb24fm9Bj",
        "outputId": "4afba773-2137-4957-ff83-021a1649d452"
      },
      "source": [
        "badstuff.describe()"
      ],
      "execution_count": 83,
      "outputs": [
        {
          "output_type": "execute_result",
          "data": {
            "text/html": [
              "<div>\n",
              "<style scoped>\n",
              "    .dataframe tbody tr th:only-of-type {\n",
              "        vertical-align: middle;\n",
              "    }\n",
              "\n",
              "    .dataframe tbody tr th {\n",
              "        vertical-align: top;\n",
              "    }\n",
              "\n",
              "    .dataframe thead th {\n",
              "        text-align: right;\n",
              "    }\n",
              "</style>\n",
              "<table border=\"1\" class=\"dataframe\">\n",
              "  <thead>\n",
              "    <tr style=\"text-align: right;\">\n",
              "      <th></th>\n",
              "      <th>zip</th>\n",
              "    </tr>\n",
              "  </thead>\n",
              "  <tbody>\n",
              "    <tr>\n",
              "      <th>count</th>\n",
              "      <td>99997.000000</td>\n",
              "    </tr>\n",
              "    <tr>\n",
              "      <th>mean</th>\n",
              "      <td>85045.026311</td>\n",
              "    </tr>\n",
              "    <tr>\n",
              "      <th>std</th>\n",
              "      <td>71.732023</td>\n",
              "    </tr>\n",
              "    <tr>\n",
              "      <th>min</th>\n",
              "      <td>85003.000000</td>\n",
              "    </tr>\n",
              "    <tr>\n",
              "      <th>25%</th>\n",
              "      <td>85016.000000</td>\n",
              "    </tr>\n",
              "    <tr>\n",
              "      <th>50%</th>\n",
              "      <td>85027.000000</td>\n",
              "    </tr>\n",
              "    <tr>\n",
              "      <th>75%</th>\n",
              "      <td>85041.000000</td>\n",
              "    </tr>\n",
              "    <tr>\n",
              "      <th>max</th>\n",
              "      <td>85395.000000</td>\n",
              "    </tr>\n",
              "  </tbody>\n",
              "</table>\n",
              "</div>"
            ],
            "text/plain": [
              "                zip\n",
              "count  99997.000000\n",
              "mean   85045.026311\n",
              "std       71.732023\n",
              "min    85003.000000\n",
              "25%    85016.000000\n",
              "50%    85027.000000\n",
              "75%    85041.000000\n",
              "max    85395.000000"
            ]
          },
          "metadata": {
            "tags": []
          },
          "execution_count": 83
        }
      ]
    },
    {
      "cell_type": "markdown",
      "metadata": {
        "id": "n9-srflYnLrW"
      },
      "source": [
        "I want to see how many different zip codes and different places their are for this data. "
      ]
    },
    {
      "cell_type": "code",
      "metadata": {
        "colab": {
          "base_uri": "https://localhost:8080/"
        },
        "id": "a5S4_Cjqoets",
        "outputId": "8123a561-9161-4d7d-e175-9ab0b278ade7"
      },
      "source": [
        "badstuff.zip.value_counts()"
      ],
      "execution_count": 84,
      "outputs": [
        {
          "output_type": "execute_result",
          "data": {
            "text/plain": [
              "85015.0    5325\n",
              "85008.0    4749\n",
              "85051.0    4184\n",
              "85041.0    4126\n",
              "85009.0    4120\n",
              "           ... \n",
              "85268.0       1\n",
              "85266.0       1\n",
              "85248.0       1\n",
              "85226.0       1\n",
              "85204.0       1\n",
              "Name: zip, Length: 93, dtype: int64"
            ]
          },
          "metadata": {
            "tags": []
          },
          "execution_count": 84
        }
      ]
    },
    {
      "cell_type": "code",
      "metadata": {
        "colab": {
          "base_uri": "https://localhost:8080/"
        },
        "id": "dBXp9Q9jpGxw",
        "outputId": "fe0af193-c635-48ae-abdd-f23817329c6b"
      },
      "source": [
        "badstuff.premise_type.value_counts()"
      ],
      "execution_count": 85,
      "outputs": [
        {
          "output_type": "execute_result",
          "data": {
            "text/plain": [
              "SINGLE FAMILY HOUSE                    19527\n",
              "PARKING LOT                            11296\n",
              "APARTMENT                              11009\n",
              "RETAIL BUSINESS                         8783\n",
              "STREET / ROADWAY / ALLEY / SIDEWALK     8512\n",
              "                                       ...  \n",
              "GAMBLING FACILITY/CASINO/RACE TRACK        1\n",
              "INDUSTRIAL SITE                            1\n",
              "FARM FACILITY                              1\n",
              "ABANDONED/CONDEMNED STRUCTURE              1\n",
              "PARK AND RIDE                              1\n",
              "Name: premise_type, Length: 89, dtype: int64"
            ]
          },
          "metadata": {
            "tags": []
          },
          "execution_count": 85
        }
      ]
    },
    {
      "cell_type": "markdown",
      "metadata": {
        "id": "01MhjErrssy3"
      },
      "source": [
        "Now I want to sort the data. I am going to sort based on place.\r\n"
      ]
    },
    {
      "cell_type": "code",
      "metadata": {
        "colab": {
          "base_uri": "https://localhost:8080/",
          "height": 620
        },
        "id": "xl-B3szJtA5N",
        "outputId": "8bdca1a1-045f-4c9d-bb8c-be136394185a"
      },
      "source": [
        "badstuff.sort_values(by=['premise_type','ucr_crime_category'])"
      ],
      "execution_count": 86,
      "outputs": [
        {
          "output_type": "execute_result",
          "data": {
            "text/html": [
              "<div>\n",
              "<style scoped>\n",
              "    .dataframe tbody tr th:only-of-type {\n",
              "        vertical-align: middle;\n",
              "    }\n",
              "\n",
              "    .dataframe tbody tr th {\n",
              "        vertical-align: top;\n",
              "    }\n",
              "\n",
              "    .dataframe thead th {\n",
              "        text-align: right;\n",
              "    }\n",
              "</style>\n",
              "<table border=\"1\" class=\"dataframe\">\n",
              "  <thead>\n",
              "    <tr style=\"text-align: right;\">\n",
              "      <th></th>\n",
              "      <th>occurred_on</th>\n",
              "      <th>occurred_to</th>\n",
              "      <th>ucr_crime_category</th>\n",
              "      <th>100_block_addr</th>\n",
              "      <th>zip</th>\n",
              "      <th>premise_type</th>\n",
              "    </tr>\n",
              "    <tr>\n",
              "      <th>INC NUMBER</th>\n",
              "      <th></th>\n",
              "      <th></th>\n",
              "      <th></th>\n",
              "      <th></th>\n",
              "      <th></th>\n",
              "      <th></th>\n",
              "    </tr>\n",
              "  </thead>\n",
              "  <tbody>\n",
              "    <tr>\n",
              "      <th>201700001041461</th>\n",
              "      <td>05/25/2017  00:01</td>\n",
              "      <td>06/14/2017  19:00</td>\n",
              "      <td>BURGLARY</td>\n",
              "      <td>15XX W HATCHER RD</td>\n",
              "      <td>85021.0</td>\n",
              "      <td>ABANDONED/CONDEMNED STRUCTURE</td>\n",
              "    </tr>\n",
              "    <tr>\n",
              "      <th>201500002150175</th>\n",
              "      <td>11/08/2015  12:50</td>\n",
              "      <td>NaN</td>\n",
              "      <td>AGGRAVATED ASSAULT</td>\n",
              "      <td>20XX W INDIAN SCHOOL RD</td>\n",
              "      <td>85015.0</td>\n",
              "      <td>ADULT ONLY STORE / MOVIE</td>\n",
              "    </tr>\n",
              "    <tr>\n",
              "      <th>201600001861588</th>\n",
              "      <td>10/06/2016  17:00</td>\n",
              "      <td>10/06/2016  17:30</td>\n",
              "      <td>AGGRAVATED ASSAULT</td>\n",
              "      <td>1XX S 24TH ST</td>\n",
              "      <td>85034.0</td>\n",
              "      <td>ADULT ONLY STORE / MOVIE</td>\n",
              "    </tr>\n",
              "    <tr>\n",
              "      <th>201600002180336</th>\n",
              "      <td>11/24/2016  23:26</td>\n",
              "      <td>NaN</td>\n",
              "      <td>AGGRAVATED ASSAULT</td>\n",
              "      <td>19XX N BLACK CANYON FWY</td>\n",
              "      <td>85009.0</td>\n",
              "      <td>ADULT ONLY STORE / MOVIE</td>\n",
              "    </tr>\n",
              "    <tr>\n",
              "      <th>201600000022400</th>\n",
              "      <td>01/04/2016  10:00</td>\n",
              "      <td>01/04/2016  12:00</td>\n",
              "      <td>BURGLARY</td>\n",
              "      <td>40XX W CAMELBACK RD</td>\n",
              "      <td>85019.0</td>\n",
              "      <td>ADULT ONLY STORE / MOVIE</td>\n",
              "    </tr>\n",
              "    <tr>\n",
              "      <th>...</th>\n",
              "      <td>...</td>\n",
              "      <td>...</td>\n",
              "      <td>...</td>\n",
              "      <td>...</td>\n",
              "      <td>...</td>\n",
              "      <td>...</td>\n",
              "    </tr>\n",
              "    <tr>\n",
              "      <th>201600001593628</th>\n",
              "      <td>08/27/2016  16:06</td>\n",
              "      <td>NaN</td>\n",
              "      <td>ROBBERY</td>\n",
              "      <td>22XX E GARFIELD ST</td>\n",
              "      <td>85006.0</td>\n",
              "      <td>NaN</td>\n",
              "    </tr>\n",
              "    <tr>\n",
              "      <th>201600001672624</th>\n",
              "      <td>09/08/2016  14:24</td>\n",
              "      <td>09/08/2016  14:25</td>\n",
              "      <td>ROBBERY</td>\n",
              "      <td>16XX N 36TH ST</td>\n",
              "      <td>85008.0</td>\n",
              "      <td>NaN</td>\n",
              "    </tr>\n",
              "    <tr>\n",
              "      <th>201600001717011</th>\n",
              "      <td>09/15/2016  03:32</td>\n",
              "      <td>09/15/2016  03:32</td>\n",
              "      <td>ROBBERY</td>\n",
              "      <td>34XX W GREENWAY RD</td>\n",
              "      <td>85053.0</td>\n",
              "      <td>NaN</td>\n",
              "    </tr>\n",
              "    <tr>\n",
              "      <th>201700000141217</th>\n",
              "      <td>01/24/2017  16:10</td>\n",
              "      <td>NaN</td>\n",
              "      <td>ROBBERY</td>\n",
              "      <td>42XX N 27TH ST</td>\n",
              "      <td>85016.0</td>\n",
              "      <td>NaN</td>\n",
              "    </tr>\n",
              "    <tr>\n",
              "      <th>201700000209468</th>\n",
              "      <td>02/04/2017  20:15</td>\n",
              "      <td>02/04/2017  20:19</td>\n",
              "      <td>ROBBERY</td>\n",
              "      <td>36XX W THOMAS RD</td>\n",
              "      <td>85009.0</td>\n",
              "      <td>NaN</td>\n",
              "    </tr>\n",
              "  </tbody>\n",
              "</table>\n",
              "<p>100000 rows × 6 columns</p>\n",
              "</div>"
            ],
            "text/plain": [
              "                       occurred_on  ...                   premise_type\n",
              "INC NUMBER                          ...                               \n",
              "201700001041461  05/25/2017  00:01  ...  ABANDONED/CONDEMNED STRUCTURE\n",
              "201500002150175  11/08/2015  12:50  ...       ADULT ONLY STORE / MOVIE\n",
              "201600001861588  10/06/2016  17:00  ...       ADULT ONLY STORE / MOVIE\n",
              "201600002180336  11/24/2016  23:26  ...       ADULT ONLY STORE / MOVIE\n",
              "201600000022400  01/04/2016  10:00  ...       ADULT ONLY STORE / MOVIE\n",
              "...                            ...  ...                            ...\n",
              "201600001593628  08/27/2016  16:06  ...                            NaN\n",
              "201600001672624  09/08/2016  14:24  ...                            NaN\n",
              "201600001717011  09/15/2016  03:32  ...                            NaN\n",
              "201700000141217  01/24/2017  16:10  ...                            NaN\n",
              "201700000209468  02/04/2017  20:15  ...                            NaN\n",
              "\n",
              "[100000 rows x 6 columns]"
            ]
          },
          "metadata": {
            "tags": []
          },
          "execution_count": 86
        }
      ]
    },
    {
      "cell_type": "markdown",
      "metadata": {
        "id": "kVVr-51Uu_fB"
      },
      "source": [
        "I am going to look at the different premises and which types of crimes are most common in each.\r\n"
      ]
    },
    {
      "cell_type": "code",
      "metadata": {
        "id": "8GGodZBDvKvo"
      },
      "source": [
        "places =badstuff.groupby('premise_type')"
      ],
      "execution_count": 91,
      "outputs": []
    },
    {
      "cell_type": "code",
      "metadata": {
        "colab": {
          "base_uri": "https://localhost:8080/",
          "height": 481
        },
        "id": "Y0znaX39wcKz",
        "outputId": "d0203977-64b6-4d7b-8c7b-24298ba9fe40"
      },
      "source": [
        "places.describe()"
      ],
      "execution_count": 92,
      "outputs": [
        {
          "output_type": "execute_result",
          "data": {
            "text/html": [
              "<div>\n",
              "<style scoped>\n",
              "    .dataframe tbody tr th:only-of-type {\n",
              "        vertical-align: middle;\n",
              "    }\n",
              "\n",
              "    .dataframe tbody tr th {\n",
              "        vertical-align: top;\n",
              "    }\n",
              "\n",
              "    .dataframe thead tr th {\n",
              "        text-align: left;\n",
              "    }\n",
              "\n",
              "    .dataframe thead tr:last-of-type th {\n",
              "        text-align: right;\n",
              "    }\n",
              "</style>\n",
              "<table border=\"1\" class=\"dataframe\">\n",
              "  <thead>\n",
              "    <tr>\n",
              "      <th></th>\n",
              "      <th colspan=\"8\" halign=\"left\">zip</th>\n",
              "    </tr>\n",
              "    <tr>\n",
              "      <th></th>\n",
              "      <th>count</th>\n",
              "      <th>mean</th>\n",
              "      <th>std</th>\n",
              "      <th>min</th>\n",
              "      <th>25%</th>\n",
              "      <th>50%</th>\n",
              "      <th>75%</th>\n",
              "      <th>max</th>\n",
              "    </tr>\n",
              "    <tr>\n",
              "      <th>premise_type</th>\n",
              "      <th></th>\n",
              "      <th></th>\n",
              "      <th></th>\n",
              "      <th></th>\n",
              "      <th></th>\n",
              "      <th></th>\n",
              "      <th></th>\n",
              "      <th></th>\n",
              "    </tr>\n",
              "  </thead>\n",
              "  <tbody>\n",
              "    <tr>\n",
              "      <th>ABANDONED/CONDEMNED STRUCTURE</th>\n",
              "      <td>1.0</td>\n",
              "      <td>85021.000000</td>\n",
              "      <td>NaN</td>\n",
              "      <td>85021.0</td>\n",
              "      <td>85021.0</td>\n",
              "      <td>85021.0</td>\n",
              "      <td>85021.0</td>\n",
              "      <td>85021.0</td>\n",
              "    </tr>\n",
              "    <tr>\n",
              "      <th>ADULT ONLY STORE / MOVIE</th>\n",
              "      <td>49.0</td>\n",
              "      <td>85026.204082</td>\n",
              "      <td>13.907401</td>\n",
              "      <td>85006.0</td>\n",
              "      <td>85009.0</td>\n",
              "      <td>85031.0</td>\n",
              "      <td>85034.0</td>\n",
              "      <td>85051.0</td>\n",
              "    </tr>\n",
              "    <tr>\n",
              "      <th>AIRPORT</th>\n",
              "      <td>481.0</td>\n",
              "      <td>85034.332640</td>\n",
              "      <td>14.668616</td>\n",
              "      <td>85003.0</td>\n",
              "      <td>85034.0</td>\n",
              "      <td>85034.0</td>\n",
              "      <td>85034.0</td>\n",
              "      <td>85255.0</td>\n",
              "    </tr>\n",
              "    <tr>\n",
              "      <th>AMUSEMENT PARK</th>\n",
              "      <td>3.0</td>\n",
              "      <td>85043.000000</td>\n",
              "      <td>13.856406</td>\n",
              "      <td>85027.0</td>\n",
              "      <td>85039.0</td>\n",
              "      <td>85051.0</td>\n",
              "      <td>85051.0</td>\n",
              "      <td>85051.0</td>\n",
              "    </tr>\n",
              "    <tr>\n",
              "      <th>APARTMENT</th>\n",
              "      <td>11008.0</td>\n",
              "      <td>85030.052144</td>\n",
              "      <td>41.182267</td>\n",
              "      <td>85003.0</td>\n",
              "      <td>85015.0</td>\n",
              "      <td>85021.0</td>\n",
              "      <td>85034.0</td>\n",
              "      <td>85392.0</td>\n",
              "    </tr>\n",
              "    <tr>\n",
              "      <th>...</th>\n",
              "      <td>...</td>\n",
              "      <td>...</td>\n",
              "      <td>...</td>\n",
              "      <td>...</td>\n",
              "      <td>...</td>\n",
              "      <td>...</td>\n",
              "      <td>...</td>\n",
              "      <td>...</td>\n",
              "    </tr>\n",
              "    <tr>\n",
              "      <th>THEATRE</th>\n",
              "      <td>29.0</td>\n",
              "      <td>85024.827586</td>\n",
              "      <td>20.108756</td>\n",
              "      <td>85004.0</td>\n",
              "      <td>85008.0</td>\n",
              "      <td>85015.0</td>\n",
              "      <td>85040.0</td>\n",
              "      <td>85085.0</td>\n",
              "    </tr>\n",
              "    <tr>\n",
              "      <th>TRAIN STATION</th>\n",
              "      <td>14.0</td>\n",
              "      <td>85025.500000</td>\n",
              "      <td>13.921483</td>\n",
              "      <td>85003.0</td>\n",
              "      <td>85010.5</td>\n",
              "      <td>85034.0</td>\n",
              "      <td>85034.0</td>\n",
              "      <td>85041.0</td>\n",
              "    </tr>\n",
              "    <tr>\n",
              "      <th>UNKNOWN</th>\n",
              "      <td>602.0</td>\n",
              "      <td>85051.915282</td>\n",
              "      <td>83.294924</td>\n",
              "      <td>85003.0</td>\n",
              "      <td>85014.0</td>\n",
              "      <td>85028.0</td>\n",
              "      <td>85041.0</td>\n",
              "      <td>85395.0</td>\n",
              "    </tr>\n",
              "    <tr>\n",
              "      <th>VEHICLE</th>\n",
              "      <td>5402.0</td>\n",
              "      <td>85050.190300</td>\n",
              "      <td>77.272617</td>\n",
              "      <td>85003.0</td>\n",
              "      <td>85017.0</td>\n",
              "      <td>85031.0</td>\n",
              "      <td>85042.0</td>\n",
              "      <td>85392.0</td>\n",
              "    </tr>\n",
              "    <tr>\n",
              "      <th>WAREHOUSE / FACTORY</th>\n",
              "      <td>243.0</td>\n",
              "      <td>85031.444444</td>\n",
              "      <td>36.015493</td>\n",
              "      <td>85003.0</td>\n",
              "      <td>85009.0</td>\n",
              "      <td>85034.0</td>\n",
              "      <td>85043.0</td>\n",
              "      <td>85339.0</td>\n",
              "    </tr>\n",
              "  </tbody>\n",
              "</table>\n",
              "<p>89 rows × 8 columns</p>\n",
              "</div>"
            ],
            "text/plain": [
              "                                   zip                ...                  \n",
              "                                 count          mean  ...      75%      max\n",
              "premise_type                                          ...                  \n",
              "ABANDONED/CONDEMNED STRUCTURE      1.0  85021.000000  ...  85021.0  85021.0\n",
              "ADULT ONLY STORE / MOVIE          49.0  85026.204082  ...  85034.0  85051.0\n",
              "AIRPORT                          481.0  85034.332640  ...  85034.0  85255.0\n",
              "AMUSEMENT PARK                     3.0  85043.000000  ...  85051.0  85051.0\n",
              "APARTMENT                      11008.0  85030.052144  ...  85034.0  85392.0\n",
              "...                                ...           ...  ...      ...      ...\n",
              "THEATRE                           29.0  85024.827586  ...  85040.0  85085.0\n",
              "TRAIN STATION                     14.0  85025.500000  ...  85034.0  85041.0\n",
              "UNKNOWN                          602.0  85051.915282  ...  85041.0  85395.0\n",
              "VEHICLE                         5402.0  85050.190300  ...  85042.0  85392.0\n",
              "WAREHOUSE / FACTORY              243.0  85031.444444  ...  85043.0  85339.0\n",
              "\n",
              "[89 rows x 8 columns]"
            ]
          },
          "metadata": {
            "tags": []
          },
          "execution_count": 92
        }
      ]
    },
    {
      "cell_type": "markdown",
      "metadata": {
        "id": "SXjZIXtLzWD-"
      },
      "source": [
        "Import matplotlib to make graphs eventually"
      ]
    },
    {
      "cell_type": "code",
      "metadata": {
        "id": "o2wQM1a6yGHv"
      },
      "source": [
        "import matplotlib  as plot"
      ],
      "execution_count": 96,
      "outputs": []
    },
    {
      "cell_type": "markdown",
      "metadata": {
        "id": "90gOdK3qHETk"
      },
      "source": [
        "Want to graph the 10 highest areas of crime in the Phoenix area."
      ]
    },
    {
      "cell_type": "code",
      "metadata": {
        "colab": {
          "base_uri": "https://localhost:8080/",
          "height": 486
        },
        "id": "m3kXRU-OFEaN",
        "outputId": "274b46d8-42d0-4ab1-ec65-126d9dd823a3"
      },
      "source": [
        "places.zip.count().sort_values(ascending=False).iloc[1:10].plot.bar()"
      ],
      "execution_count": 101,
      "outputs": [
        {
          "output_type": "execute_result",
          "data": {
            "text/plain": [
              "<matplotlib.axes._subplots.AxesSubplot at 0x7f4ab66c04a8>"
            ]
          },
          "metadata": {
            "tags": []
          },
          "execution_count": 101
        },
        {
          "output_type": "display_data",
          "data": {
            "image/png": "[encoded data removed]",
            "text/plain": [
              "<Figure size 432x288 with 1 Axes>"
            ]
          },
          "metadata": {
            "tags": [],
            "needs_background": "light"
          }
        }
      ]
    },
    {
      "cell_type": "markdown",
      "metadata": {
        "id": "u-lm2Rj7zY_O"
      },
      "source": [
        "Try and make a pie chart for crime in the top 10 areas of crime."
      ]
    },
    {
      "cell_type": "code",
      "metadata": {
        "id": "ATNfWQ-uxotB"
      },
      "source": [
        "tally= places.zip.count().sort_values(ascending=False).iloc[1:10]"
      ],
      "execution_count": 105,
      "outputs": []
    },
    {
      "cell_type": "code",
      "metadata": {
        "id": "m3Y1ogL0xSIp",
        "colab": {
          "base_uri": "https://localhost:8080/"
        },
        "outputId": "9a2574f1-49c5-4d57-d4db-c37787dd81cc"
      },
      "source": [
        "tally"
      ],
      "execution_count": 106,
      "outputs": [
        {
          "output_type": "execute_result",
          "data": {
            "text/plain": [
              "premise_type\n",
              "PARKING LOT                            11296\n",
              "APARTMENT                              11008\n",
              "RETAIL BUSINESS                         8783\n",
              "STREET / ROADWAY / ALLEY / SIDEWALK     8512\n",
              "VEHICLE                                 5402\n",
              "DRIVEWAY                                3511\n",
              "CONVENIENCE MARKET / STORE              3091\n",
              "GROCERY / SUPER MARKET                  2729\n",
              "DEPARTMENT / DISCOUNT STORE             2657\n",
              "Name: zip, dtype: int64"
            ]
          },
          "metadata": {
            "tags": []
          },
          "execution_count": 106
        }
      ]
    },
    {
      "cell_type": "code",
      "metadata": {
        "colab": {
          "base_uri": "https://localhost:8080/",
          "height": 265
        },
        "id": "e7_QHetI7_MI",
        "outputId": "1323c626-ea73-40e4-a53b-e6cd2b89f466"
      },
      "source": [
        "tally.plot.pie()"
      ],
      "execution_count": 107,
      "outputs": [
        {
          "output_type": "execute_result",
          "data": {
            "text/plain": [
              "<matplotlib.axes._subplots.AxesSubplot at 0x7f4ab79c1c50>"
            ]
          },
          "metadata": {
            "tags": []
          },
          "execution_count": 107
        },
        {
          "output_type": "display_data",
          "data": {
            "image/png": "[encoded data removed]",
            "text/plain": [
              "<Figure size 432x288 with 1 Axes>"
            ]
          },
          "metadata": {
            "tags": []
          }
        }
      ]
    },
    {
      "cell_type": "code",
      "metadata": {
        "colab": {
          "base_uri": "https://localhost:8080/",
          "height": 450
        },
        "id": "X5FBavXe_-1S",
        "outputId": "829cc50a-f558-47f7-b824-41b7afd918fb"
      },
      "source": [
        "places.get_group('APARTMENT')"
      ],
      "execution_count": 112,
      "outputs": [
        {
          "output_type": "execute_result",
          "data": {
            "text/html": [
              "<div>\n",
              "<style scoped>\n",
              "    .dataframe tbody tr th:only-of-type {\n",
              "        vertical-align: middle;\n",
              "    }\n",
              "\n",
              "    .dataframe tbody tr th {\n",
              "        vertical-align: top;\n",
              "    }\n",
              "\n",
              "    .dataframe thead th {\n",
              "        text-align: right;\n",
              "    }\n",
              "</style>\n",
              "<table border=\"1\" class=\"dataframe\">\n",
              "  <thead>\n",
              "    <tr style=\"text-align: right;\">\n",
              "      <th></th>\n",
              "      <th>occurred_on</th>\n",
              "      <th>occurred_to</th>\n",
              "      <th>ucr_crime_category</th>\n",
              "      <th>100_block_addr</th>\n",
              "      <th>zip</th>\n",
              "      <th>premise_type</th>\n",
              "    </tr>\n",
              "    <tr>\n",
              "      <th>INC NUMBER</th>\n",
              "      <th></th>\n",
              "      <th></th>\n",
              "      <th></th>\n",
              "      <th></th>\n",
              "      <th></th>\n",
              "      <th></th>\n",
              "    </tr>\n",
              "  </thead>\n",
              "  <tbody>\n",
              "    <tr>\n",
              "      <th>201500002102327</th>\n",
              "      <td>11/01/2015  00:00</td>\n",
              "      <td>11/01/2015  09:00</td>\n",
              "      <td>LARCENY-THEFT</td>\n",
              "      <td>51XX N 15TH ST</td>\n",
              "      <td>85014.0</td>\n",
              "      <td>APARTMENT</td>\n",
              "    </tr>\n",
              "    <tr>\n",
              "      <th>201500002103724</th>\n",
              "      <td>11/01/2015  00:00</td>\n",
              "      <td>11/01/2015  15:21</td>\n",
              "      <td>DRUG OFFENSE</td>\n",
              "      <td>54XX W INDIAN SCHOOL RD</td>\n",
              "      <td>85031.0</td>\n",
              "      <td>APARTMENT</td>\n",
              "    </tr>\n",
              "    <tr>\n",
              "      <th>201500002102927</th>\n",
              "      <td>11/01/2015  04:00</td>\n",
              "      <td>11/01/2015  10:00</td>\n",
              "      <td>LARCENY-THEFT</td>\n",
              "      <td>176XX N 7TH ST</td>\n",
              "      <td>85022.0</td>\n",
              "      <td>APARTMENT</td>\n",
              "    </tr>\n",
              "    <tr>\n",
              "      <th>201500002126247</th>\n",
              "      <td>11/01/2015  05:00</td>\n",
              "      <td>11/02/2015  16:00</td>\n",
              "      <td>BURGLARY</td>\n",
              "      <td>17XX W DESERT COVE AVE</td>\n",
              "      <td>85029.0</td>\n",
              "      <td>APARTMENT</td>\n",
              "    </tr>\n",
              "    <tr>\n",
              "      <th>201500002101936</th>\n",
              "      <td>11/01/2015  09:43</td>\n",
              "      <td>NaN</td>\n",
              "      <td>DRUG OFFENSE</td>\n",
              "      <td>9XX S 17TH AVE</td>\n",
              "      <td>85007.0</td>\n",
              "      <td>APARTMENT</td>\n",
              "    </tr>\n",
              "    <tr>\n",
              "      <th>...</th>\n",
              "      <td>...</td>\n",
              "      <td>...</td>\n",
              "      <td>...</td>\n",
              "      <td>...</td>\n",
              "      <td>...</td>\n",
              "      <td>...</td>\n",
              "    </tr>\n",
              "    <tr>\n",
              "      <th>201700000924800</th>\n",
              "      <td>05/28/2017  03:00</td>\n",
              "      <td>NaN</td>\n",
              "      <td>MOTOR VEHICLE THEFT</td>\n",
              "      <td>82XX W MCDOWELL RD</td>\n",
              "      <td>85043.0</td>\n",
              "      <td>APARTMENT</td>\n",
              "    </tr>\n",
              "    <tr>\n",
              "      <th>201700000933058</th>\n",
              "      <td>05/28/2017  03:45</td>\n",
              "      <td>05/28/2017  07:00</td>\n",
              "      <td>BURGLARY</td>\n",
              "      <td>45XX E BELLEVIEW ST</td>\n",
              "      <td>85008.0</td>\n",
              "      <td>APARTMENT</td>\n",
              "    </tr>\n",
              "    <tr>\n",
              "      <th>201700000941226</th>\n",
              "      <td>05/28/2017  08:00</td>\n",
              "      <td>05/28/2017  10:00</td>\n",
              "      <td>AGGRAVATED ASSAULT</td>\n",
              "      <td>26XX E ROOSEVELT ST</td>\n",
              "      <td>85008.0</td>\n",
              "      <td>APARTMENT</td>\n",
              "    </tr>\n",
              "    <tr>\n",
              "      <th>201700000934894</th>\n",
              "      <td>05/28/2017  08:00</td>\n",
              "      <td>05/29/2017  20:50</td>\n",
              "      <td>BURGLARY</td>\n",
              "      <td>51XX N 99TH AVE</td>\n",
              "      <td>85307.0</td>\n",
              "      <td>APARTMENT</td>\n",
              "    </tr>\n",
              "    <tr>\n",
              "      <th>201700000926677</th>\n",
              "      <td>05/28/2017  13:30</td>\n",
              "      <td>05/28/2017  13:30</td>\n",
              "      <td>DRUG OFFENSE</td>\n",
              "      <td>42XX N 10TH ST</td>\n",
              "      <td>85014.0</td>\n",
              "      <td>APARTMENT</td>\n",
              "    </tr>\n",
              "  </tbody>\n",
              "</table>\n",
              "<p>11009 rows × 6 columns</p>\n",
              "</div>"
            ],
            "text/plain": [
              "                       occurred_on        occurred_to  ...      zip premise_type\n",
              "INC NUMBER                                             ...                      \n",
              "201500002102327  11/01/2015  00:00  11/01/2015  09:00  ...  85014.0    APARTMENT\n",
              "201500002103724  11/01/2015  00:00  11/01/2015  15:21  ...  85031.0    APARTMENT\n",
              "201500002102927  11/01/2015  04:00  11/01/2015  10:00  ...  85022.0    APARTMENT\n",
              "201500002126247  11/01/2015  05:00  11/02/2015  16:00  ...  85029.0    APARTMENT\n",
              "201500002101936  11/01/2015  09:43                NaN  ...  85007.0    APARTMENT\n",
              "...                            ...                ...  ...      ...          ...\n",
              "201700000924800  05/28/2017  03:00                NaN  ...  85043.0    APARTMENT\n",
              "201700000933058  05/28/2017  03:45  05/28/2017  07:00  ...  85008.0    APARTMENT\n",
              "201700000941226  05/28/2017  08:00  05/28/2017  10:00  ...  85008.0    APARTMENT\n",
              "201700000934894  05/28/2017  08:00  05/29/2017  20:50  ...  85307.0    APARTMENT\n",
              "201700000926677  05/28/2017  13:30  05/28/2017  13:30  ...  85014.0    APARTMENT\n",
              "\n",
              "[11009 rows x 6 columns]"
            ]
          },
          "metadata": {
            "tags": []
          },
          "execution_count": 112
        }
      ]
    },
    {
      "cell_type": "code",
      "metadata": {
        "colab": {
          "base_uri": "https://localhost:8080/"
        },
        "id": "ewoVgc_AJBwK",
        "outputId": "1883c8e8-9d0b-46d4-8fc8-12aec2050b89"
      },
      "source": [
        "places.get_group('APARTMENT').nunique()"
      ],
      "execution_count": 125,
      "outputs": [
        {
          "output_type": "execute_result",
          "data": {
            "text/plain": [
              "occurred_on           9653\n",
              "occurred_to           7931\n",
              "ucr_crime_category       9\n",
              "100_block_addr        2366\n",
              "zip                     60\n",
              "premise_type             1\n",
              "dtype: int64"
            ]
          },
          "metadata": {
            "tags": []
          },
          "execution_count": 125
        }
      ]
    },
    {
      "cell_type": "markdown",
      "metadata": {
        "id": "OO6B7HBAK0BD"
      },
      "source": [
        "Isolate the counts of crime category and graph it."
      ]
    },
    {
      "cell_type": "code",
      "metadata": {
        "colab": {
          "base_uri": "https://localhost:8080/"
        },
        "id": "JonESlXrK6Km",
        "outputId": "2b3313ec-91d7-4bcb-ca8b-36391774dfe5"
      },
      "source": [
        "places.get_group('APARTMENT').groupby('ucr_crime_category').zip.count()"
      ],
      "execution_count": 127,
      "outputs": [
        {
          "output_type": "execute_result",
          "data": {
            "text/plain": [
              "ucr_crime_category\n",
              "AGGRAVATED ASSAULT                       1537\n",
              "ARSON                                      32\n",
              "BURGLARY                                 2927\n",
              "DRUG OFFENSE                              413\n",
              "LARCENY-THEFT                            4082\n",
              "MOTOR VEHICLE THEFT                      1354\n",
              "MURDER AND NON-NEGLIGENT MANSLAUGHTER      33\n",
              "RAPE                                      375\n",
              "ROBBERY                                   255\n",
              "Name: zip, dtype: int64"
            ]
          },
          "metadata": {
            "tags": []
          },
          "execution_count": 127
        }
      ]
    },
    {
      "cell_type": "code",
      "metadata": {
        "colab": {
          "base_uri": "https://localhost:8080/",
          "height": 546
        },
        "id": "ozi3cKRpLRIT",
        "outputId": "fda0b6d4-03bd-443b-e1a8-500d3af31973"
      },
      "source": [
        "places.get_group('APARTMENT').groupby('ucr_crime_category').zip.count().plot.bar(title='Apartment Crimes')"
      ],
      "execution_count": 129,
      "outputs": [
        {
          "output_type": "execute_result",
          "data": {
            "text/plain": [
              "<matplotlib.axes._subplots.AxesSubplot at 0x7f4ab58d6668>"
            ]
          },
          "metadata": {
            "tags": []
          },
          "execution_count": 129
        },
        {
          "output_type": "display_data",
          "data": {
            "image/png": "[encoded data removed]",
            "text/plain": [
              "<Figure size 432x288 with 1 Axes>"
            ]
          },
          "metadata": {
            "tags": [],
            "needs_background": "light"
          }
        }
      ]
    }
  ]
}