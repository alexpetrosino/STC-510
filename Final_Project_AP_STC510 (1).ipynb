{
  "nbformat": 4,
  "nbformat_minor": 0,
  "metadata": {
    "colab": {
      "name": "Final_Project_AP_STC510",
      "provenance": [],
      "collapsed_sections": []
    },
    "kernelspec": {
      "name": "python3",
      "display_name": "Python 3"
    }
  },
  "cells": [
    {
      "cell_type": "code",
      "metadata": {
        "colab": {
          "base_uri": "https://localhost:8080/"
        },
        "id": "JViixLbt8moX",
        "outputId": "69b9541e-724f-4ea3-c31a-16fa620a0fc4"
      },
      "source": [
        "!pip install praw\r\n",
        "import praw\r\n",
        "from time import sleep\r\n",
        "import datetime\r\n",
        "from datetime import timedelta"
      ],
      "execution_count": 3,
      "outputs": [
        {
          "output_type": "stream",
          "text": [
            "Collecting praw\n",
            "\u001b[?25l  Downloading https://files.pythonhosted.org/packages/48/a8/a2e2d0750ee17c7e3d81e4695a0338ad0b3f231853b8c3fa339ff2d25c7c/praw-7.2.0-py3-none-any.whl (159kB)\n",
            "\r\u001b[K     |██                              | 10kB 15.1MB/s eta 0:00:01\r\u001b[K     |████                            | 20kB 21.0MB/s eta 0:00:01\r\u001b[K     |██████▏                         | 30kB 10.0MB/s eta 0:00:01\r\u001b[K     |████████▏                       | 40kB 10.1MB/s eta 0:00:01\r\u001b[K     |██████████▎                     | 51kB 7.9MB/s eta 0:00:01\r\u001b[K     |████████████▎                   | 61kB 7.8MB/s eta 0:00:01\r\u001b[K     |██████████████▍                 | 71kB 8.7MB/s eta 0:00:01\r\u001b[K     |████████████████▍               | 81kB 9.5MB/s eta 0:00:01\r\u001b[K     |██████████████████▌             | 92kB 8.0MB/s eta 0:00:01\r\u001b[K     |████████████████████▌           | 102kB 8.3MB/s eta 0:00:01\r\u001b[K     |██████████████████████▋         | 112kB 8.3MB/s eta 0:00:01\r\u001b[K     |████████████████████████▋       | 122kB 8.3MB/s eta 0:00:01\r\u001b[K     |██████████████████████████▊     | 133kB 8.3MB/s eta 0:00:01\r\u001b[K     |████████████████████████████▊   | 143kB 8.3MB/s eta 0:00:01\r\u001b[K     |██████████████████████████████▉ | 153kB 8.3MB/s eta 0:00:01\r\u001b[K     |████████████████████████████████| 163kB 8.3MB/s \n",
            "\u001b[?25hCollecting prawcore<3,>=2\n",
            "  Downloading https://files.pythonhosted.org/packages/7d/df/4a9106bea0d26689c4b309da20c926a01440ddaf60c09a5ae22684ebd35f/prawcore-2.0.0-py3-none-any.whl\n",
            "Collecting websocket-client>=0.54.0\n",
            "\u001b[?25l  Downloading https://files.pythonhosted.org/packages/4c/5f/f61b420143ed1c8dc69f9eaec5ff1ac36109d52c80de49d66e0c36c3dfdf/websocket_client-0.57.0-py2.py3-none-any.whl (200kB)\n",
            "\u001b[K     |████████████████████████████████| 204kB 12.1MB/s \n",
            "\u001b[?25hCollecting update-checker>=0.18\n",
            "  Downloading https://files.pythonhosted.org/packages/0c/ba/8dd7fa5f0b1c6a8ac62f8f57f7e794160c1f86f31c6d0fb00f582372a3e4/update_checker-0.18.0-py3-none-any.whl\n",
            "Requirement already satisfied: requests<3.0,>=2.6.0 in /usr/local/lib/python3.7/dist-packages (from prawcore<3,>=2->praw) (2.23.0)\n",
            "Requirement already satisfied: six in /usr/local/lib/python3.7/dist-packages (from websocket-client>=0.54.0->praw) (1.15.0)\n",
            "Requirement already satisfied: idna<3,>=2.5 in /usr/local/lib/python3.7/dist-packages (from requests<3.0,>=2.6.0->prawcore<3,>=2->praw) (2.10)\n",
            "Requirement already satisfied: chardet<4,>=3.0.2 in /usr/local/lib/python3.7/dist-packages (from requests<3.0,>=2.6.0->prawcore<3,>=2->praw) (3.0.4)\n",
            "Requirement already satisfied: urllib3!=1.25.0,!=1.25.1,<1.26,>=1.21.1 in /usr/local/lib/python3.7/dist-packages (from requests<3.0,>=2.6.0->prawcore<3,>=2->praw) (1.24.3)\n",
            "Requirement already satisfied: certifi>=2017.4.17 in /usr/local/lib/python3.7/dist-packages (from requests<3.0,>=2.6.0->prawcore<3,>=2->praw) (2020.12.5)\n",
            "Installing collected packages: prawcore, websocket-client, update-checker, praw\n",
            "Successfully installed praw-7.2.0 prawcore-2.0.0 update-checker-0.18.0 websocket-client-0.57.0\n"
          ],
          "name": "stdout"
        }
      ]
    },
    {
      "cell_type": "markdown",
      "metadata": {
        "id": "ijJeIokY8zU0"
      },
      "source": [
        "I am going to start out using the Reddit app, and pulling from the subreddit, Wallstreet bets. There has been a lot of news about this subreddit and the stock market in coordination with Gamestop, AMC and BB shares. I want to Analyze the lingo used in this forum and the different shares being discussed. My guesses would be GME being the most talked about stock, Lingo would have diamond hands being the most common, and DFV associated with GME over 60% of the time.\r\n",
        "\r\n"
      ]
    },
    {
      "cell_type": "code",
      "metadata": {
        "id": "iICuEw2b9IW6"
      },
      "source": [
        "uname = 'Apetty914'\r\n",
        "upassword = Nottodaysatan\r\n",
        "app_id = 'BpXCT5yB3PXJ3A'\r\n",
        "app_secret = 'gkCFVhnara4PjBRGnTsNz4JR3N-GPw'"
      ],
      "execution_count": 4,
      "outputs": []
    },
    {
      "cell_type": "code",
      "metadata": {
        "id": "v8IoxMH_-XYW"
      },
      "source": [
        "#This is just identifying the app made in reddit\r\n",
        "reddit = praw.Reddit(user_agent=\"Tendies (by /u/Apetty914)\",\r\n",
        "                     client_id=app_id, client_secret=app_secret,\r\n",
        "                     username=uname, password=upassword)"
      ],
      "execution_count": 5,
      "outputs": []
    },
    {
      "cell_type": "markdown",
      "metadata": {
        "id": "ULB1AopG-g9G"
      },
      "source": [
        "I have provided my identification and the app being used. Now I want to start pulling the searches I want. I am not going to collect comments, because I will be here all day and night. "
      ]
    },
    {
      "cell_type": "code",
      "metadata": {
        "colab": {
          "base_uri": "https://localhost:8080/",
          "height": 1000
        },
        "id": "yLWh4dIvAZ_o",
        "outputId": "55c73536-bf2e-40c9-ebfa-d330a8cc87d2"
      },
      "source": [
        "subreddit = reddit.subreddit('wallstreetbets')\r\n",
        "for submission in subreddit.stream.submissions():\r\n",
        "  print(submission.title)"
      ],
      "execution_count": 6,
      "outputs": [
        {
          "output_type": "stream",
          "text": [
            "It appears that you are using PRAW in an asynchronous environment.\n",
            "It is strongly recommended to use Async PRAW: https://asyncpraw.readthedocs.io.\n",
            "See https://praw.readthedocs.io/en/latest/getting_started/multiple_instances.html#discord-bots-and-asynchronous-environments for more info.\n",
            "\n",
            "It appears that you are using PRAW in an asynchronous environment.\n",
            "It is strongly recommended to use Async PRAW: https://asyncpraw.readthedocs.io.\n",
            "See https://praw.readthedocs.io/en/latest/getting_started/multiple_instances.html#discord-bots-and-asynchronous-environments for more info.\n",
            "\n"
          ],
          "name": "stderr"
        },
        {
          "output_type": "stream",
          "text": [
            "VIX calls as the sauce for your GME tendies\n",
            "My SENS Play breakdown\n",
            "1000 shares of PLTR. Doing what I can to help push this Pltr 🚀 upwards. Not much but it’s an honest push. Stop buying OTM calls and begging to a for help. Be a part of what fuels the the rocket. YOLO PALANTARDS $420.69\n",
            "Most important question - How did risk assets do when rates are rising along with inflation expectations?\n",
            "Market Maker's Delta Exposure is over 25m shares, and how it will accelerate the short squeeze to legendary levels.\n",
            "If GME was a sitcom\n",
            "Why the squeeze you're all dreaming for WONT happen\n",
            "GME FOMO led to some research, hopefully can help others\n",
            "AMC Gamma Squeeze\n",
            "AMC - Let's All Go to the Movies\n",
            "Is my portfolio sufficiently diversified? ⛽🚀\n",
            "This will age well.\n",
            "NVAX part II - Last call before a shit ton of catalysts\n",
            "A quick reasonable and logic explanation on what is currently happening to GME\n",
            "While the GME rocket is preparing for launch, hedge funds are likely shorting other stocks and placing calls on GME\n",
            "Awaken, ape warriors! The squeeze has not been squoze.\n",
            "Endp Update\n",
            "The Yield Curve and You, A Primer\n",
            "Is this how one YOLOs? $200K on 400 x $800 March 19th GME calls\n",
            "Reddit Mention Trends - Weekend Brief\n",
            "Why I love the AMC Stock\n",
            "Bag holding weekly YOLO’s like through autist; RKT PLTR FUBO LI AUTO\n",
            "Las Vegas Sands - Sir, this is (Literally) a Casino\n",
            "SPY 410 by 3/31: A Smoothest Brain DD\n",
            "$BYND is or will partner with $Pep, $MCD & $YUM\n",
            "As Bank of Walmart seems to be happening, Wall Street begging regulators to halt retailers offering corebanking services\n",
            "Snack on the Sneakiest Short Squeeze of all time with UTZ🚀🚀🚀\n",
            "Russian Table Tennis, Gamestop, and a story never fully told\n",
            "Why does $AXON have $0 debt on their B.S?\n",
            "It seems like you already know where\n",
            "Senseonics ($SENS) Continuous Glucose Monitor\n",
            "We're Gonna Need a Bigger Float - GameStop is a Remix and How to Maybe Profit Off It\n",
            "I cracked the code to the meme stock moon cycle\n",
            "From Bristol to Crystal. Can’t stop won’t stop till 100k.\n",
            "Geode capital shut down\n",
            "REMEMBER - Fidelity loaning out your shares to shorts if you're on a MARGIN account\n",
            "Back to 6 figs of AMC and down $100+ since last update. Holding strong and focusing on packing my moons bags. See all you apes there!\n",
            "GME Gains part 2\n",
            "412k QQQJ YOLO. I raise a toast to the guy with the 167k QQQJ Yolo\n",
            "GME, Comparing Volume (Options, Equity) and Closing Price For the Past 4 Months\n",
            "Loaded Up and Ready For Today ✊🏼\n",
            "LDI - Loan Depot - The Gold Mine, Did we finally see RKT Moon this week? Did you miss the boat?\n",
            "270k play on AMD. Let's go Su Bae! I believed in you since the $4 stock price to $100 and beyond! 🚀\n",
            "Was a wild little ride - 12,500% of realized gains\n",
            "Observations\n",
            "Here's why I think $AMC is solid (long) bet\n",
            "GME TO THE MOON BOIZ! Let’s get it!\n",
            "Is it wrong if I want my loss to stay this way?\n",
            "GME’s price jump last week\n",
            "PLTR or bust\n",
            "Smooth brain help GME maths\n",
            "FreeTrade blocking limit orders and stop losses due to “unplanned downtime”\n",
            "Daily Discussion Thread for March 01, 2021\n",
            "Unpinned Daily Discussion Thread for March 01, 2021\n",
            "PALANQUEER: THERE CAN BE ONLY ONE\n",
            "Market Cap explained for new Apes\n",
            "Nice tendies from Carnival CCL 😉. This stock still has a long way to go. It’ll probably double, especially as people are starting to book holidays again. Time to buy more.\n",
            "\"The company (GME) itself hasn’t actually been directly helped by all the retail buying.\" LOL!\n",
            "Where my Palantards who bought the dip at?\n",
            "Mama Cathie's Top Babies\n",
            "Most Anticipated Earnings Releases for the week beginning March 1st, 2021\n",
            "GME daily thread March 1, 2021\n",
            "UK apes - where can we buy options?\n",
            "AMC in-depth DD. NOT AN \"I FEEL LIKE IT'S GOING TO GO UP\" post.\n",
            "Rocket Lab is planning to go public on the NASDAQ 🚀🚀🚀 MOON\n",
            "GME how can you win?\n",
            "I guess you're right Melvin... I am just an ape.\n",
            "Retrieved from the MOVIE: DFV THE REAL CHAD\n",
            "WE. LIKE. THE. STOCK.\n",
            "Stimmy Stimmy Ya\n",
            "Worried about what DD is real and fake? READ THIS\n",
            "NOK - Nokia wins 5G network deal from CNT\n",
            "Work-around for setting MOONSHOT sell limits with your broker\n",
            "Here We Go Again $amc #amctothemoon\n",
            "I'm going to sell GME ...\n",
            "Hold the line, collect the tendies 🦍💰\n",
            "I really am.\n",
            "Johnson & Johnson sets aside almost $4 billion for talc verdict, filing shows\n",
            "GME Gamma Dates Discussion\n",
            "Happy Monday fellow retards.. Waiting for GME to take off like...🚀🚀\n",
            "Rant for more fact based, calm and thoughtful behavior regarding GME\n",
            "Groot was thinking of buying stonks but got distracted by FUD. Luckily, the Guardians of the Tendies are on the case!\n",
            "The addiction is real bruh.... 😫🦍🦍🦍🦍🦍🦍🚀🌝 💎🙌💎💪🍆\n",
            "This is us at the end of the week boiz. Eat up those tendies!!\n",
            "Ah here we go again...\n",
            "MELVIN CHEATED\n",
            "Stimmies be steamin. Paychecks be payed. Hedgies better watch out. We ain’t done yet\n",
            "Possible reason why SSR won't make a difference today?\n",
            "🤌🏻\n",
            "Ape make CALL for more bananas\n",
            "Spotify Loses Loads of Kpop songs. Do Gay Bears have a picnic?\n",
            "Doing our part! Went to see Nomadland *** very depressing- do not recommend. Newly renovated theatre was great tho. New recliners, new bar area and new lobby.\n",
            "Hindenburg discloses short position in $ORA FYI\n",
            "POV: The year is 2050 (GME)\n",
            "AMC YOLO UPDATE AS OF 03/01/2021 posted at 5:45 AM before market open\n",
            "In January my banker said \"Don't be silly, a stupid internet forum can't fundamentally influence the entire wealth of the world\". Just got their report.\n",
            "Guys, I sold\n",
            "GME my favorite wrestler is diamond Dallas Page my favorite actor is Lou diamond Phillips my favorite song is diamonds are forever my favorite playing card is a diamond my favorite sport is baseball because they play on a diamond my favorite movie is blood diamond my favorite shape is a diamond 💎💎\n",
            "Brokerages to use in post RH world?\n",
            "Looks like it’s time to biiiiiiiii 🚀🚀\n"
          ],
          "name": "stdout"
        },
        {
          "output_type": "error",
          "ename": "KeyboardInterrupt",
          "evalue": "ignored",
          "traceback": [
            "\u001b[0;31m---------------------------------------------------------------------------\u001b[0m",
            "\u001b[0;31mKeyboardInterrupt\u001b[0m                         Traceback (most recent call last)",
            "\u001b[0;32m<ipython-input-6-c59616ebd65a>\u001b[0m in \u001b[0;36m<module>\u001b[0;34m()\u001b[0m\n\u001b[1;32m      1\u001b[0m \u001b[0msubreddit\u001b[0m \u001b[0;34m=\u001b[0m \u001b[0mreddit\u001b[0m\u001b[0;34m.\u001b[0m\u001b[0msubreddit\u001b[0m\u001b[0;34m(\u001b[0m\u001b[0;34m'wallstreetbets'\u001b[0m\u001b[0;34m)\u001b[0m\u001b[0;34m\u001b[0m\u001b[0;34m\u001b[0m\u001b[0m\n\u001b[0;32m----> 2\u001b[0;31m \u001b[0;32mfor\u001b[0m \u001b[0msubmission\u001b[0m \u001b[0;32min\u001b[0m \u001b[0msubreddit\u001b[0m\u001b[0;34m.\u001b[0m\u001b[0mstream\u001b[0m\u001b[0;34m.\u001b[0m\u001b[0msubmissions\u001b[0m\u001b[0;34m(\u001b[0m\u001b[0;34m)\u001b[0m\u001b[0;34m:\u001b[0m\u001b[0;34m\u001b[0m\u001b[0;34m\u001b[0m\u001b[0m\n\u001b[0m\u001b[1;32m      3\u001b[0m   \u001b[0mprint\u001b[0m\u001b[0;34m(\u001b[0m\u001b[0msubmission\u001b[0m\u001b[0;34m.\u001b[0m\u001b[0mtitle\u001b[0m\u001b[0;34m)\u001b[0m\u001b[0;34m\u001b[0m\u001b[0;34m\u001b[0m\u001b[0m\n",
            "\u001b[0;32m/usr/local/lib/python3.7/dist-packages/praw/models/util.py\u001b[0m in \u001b[0;36mstream_generator\u001b[0;34m(function, pause_after, skip_existing, attribute_name, exclude_before, **function_kwargs)\u001b[0m\n\u001b[1;32m    208\u001b[0m                 \u001b[0;32myield\u001b[0m \u001b[0;32mNone\u001b[0m\u001b[0;34m\u001b[0m\u001b[0;34m\u001b[0m\u001b[0m\n\u001b[1;32m    209\u001b[0m             \u001b[0;32melse\u001b[0m\u001b[0;34m:\u001b[0m\u001b[0;34m\u001b[0m\u001b[0;34m\u001b[0m\u001b[0m\n\u001b[0;32m--> 210\u001b[0;31m                 \u001b[0mtime\u001b[0m\u001b[0;34m.\u001b[0m\u001b[0msleep\u001b[0m\u001b[0;34m(\u001b[0m\u001b[0mexponential_counter\u001b[0m\u001b[0;34m.\u001b[0m\u001b[0mcounter\u001b[0m\u001b[0;34m(\u001b[0m\u001b[0;34m)\u001b[0m\u001b[0;34m)\u001b[0m\u001b[0;34m\u001b[0m\u001b[0;34m\u001b[0m\u001b[0m\n\u001b[0m",
            "\u001b[0;31mKeyboardInterrupt\u001b[0m: "
          ]
        }
      ]
    },
    {
      "cell_type": "code",
      "metadata": {
        "colab": {
          "base_uri": "https://localhost:8080/"
        },
        "id": "voTutXDi-zIr",
        "outputId": "f381c84d-0043-4a6a-ca16-ea3372ed0e58"
      },
      "source": [
        "#I am making the first list of the stocks.\r\n",
        "topiclist1 = []\r\n",
        "keywords = 'GME','AMC','BB',\r\n",
        "subreddit = reddit.subreddit('wallstreetbets')\r\n",
        "resp = subreddit.search(keywords, limit=100)\r\n",
        "\r\n",
        "for submission in resp:\r\n",
        "  topiclist1.append(submission.title)\r\n",
        "  sleep(2)\r\n",
        "  print(submission.id,submission.title,submission.author.name)"
      ],
      "execution_count": 39,
      "outputs": [
        {
          "output_type": "stream",
          "text": [
            "It appears that you are using PRAW in an asynchronous environment.\n",
            "It is strongly recommended to use Async PRAW: https://asyncpraw.readthedocs.io.\n",
            "See https://praw.readthedocs.io/en/latest/getting_started/multiple_instances.html#discord-bots-and-asynchronous-environments for more info.\n",
            "\n"
          ],
          "name": "stderr"
        },
        {
          "output_type": "stream",
          "text": [
            "l6sttu Don’t be scared by the drop in $BB $GME etc. Hedge Funds trade after hours to scare y’all off... KEEP BUYING AND HOLDING 🚀🚀 ShortVIXDaily\n",
            "l7duqp BB - Now you see why Wall Street wants to keep this under $15. Let's make them pay out all these contracts tomorrow. PT: $30+ Strig1\n",
            "l6wrig YOU CAN STILL BUY GME & BB on WeBull, eTrade, fidelity, and others, post your platform of choice and keep those 💎🙌🏻 strong! joeykomari\n",
            "l7dg6y Lawmakers side with retail investors against Wall Street institutions !!!!!!! GME AMC BB NOK 🚀🚀🚀 sjurdlannen\n",
            "lt421e $GME, $BB, $NOK, $AMC Option Expiry Today - VERY CLOSE TO BEING HUGE bosshax\n",
            "l82vi1 GME with AMC and BB overlay - Virtually Identical. shwadeck\n",
            "l89i9t $BB mic dropped about SolarWinds a few hours ago, bless 💎Papa Chen.💎 🚀🚀🚀🚀🚀👨‍🚀 Longjumping_College\n",
            "l69ulq $NOK $BB $BBBY $GME $AMC $EXPR Nasdaqoilgod\n",
            "l7vfpm All the same game, NOK BB GME AMC Chart Correlation Laroxide\n",
            "l8sn9v A Friendly Reminder to BANG (BB, AMC, NOK, GME) Gang BrandinoGames\n",
            "l98suj Aussie here supporting the cause! GME and BB with another $10k ready for market open. 💎🙌 Strong together! SmashdThat\n",
            "ldrlmd Zacks just upgraded BB. Price Target $29 senrir\n",
            "l5tzt8 BB workin its way to the moon 🚀🚀🚀 trevor1400E\n",
            "l9fmvc $BANG (BB, AMC, NOK, GME) Options Volume Analysis Strig1\n",
            "l70e2w AMC, BB AND MOST IMPORTANTLY GME WILL BE BACK! HOLD THE LINE 💎🙌 itanimullitonmi\n",
            "l87lhi The Next Wall Street Barrier: The weekend cool down ❄️ #KEEPSQUEEZING AMC GME NOK BB 🚀🌕💰💎🙌🏻 marquez_lbc\n",
            "lgsec7 $BB DD thread: Why this retard believes the fair market value for $BB is $45. Obligatory 🚀🚀🚀🚀🚀🚀🚀 TheGeffez\n",
            "ltnwo9 $BB gonna fly after this lmdgotthebeats\n",
            "l6x5b8 Citadel has blocked all trading partners (Such as Robinhood) to trade GME, BB and others. As over 40% of all trades in the US market are via Citadel, they are artificially limiting the supply balance to reduce these stocks in their favour. TheGeffez\n",
            "l7hywo These were all the stocks that Robinhood blocked: $GME $KOSS $AMC $NOK $BB $BBBY $VIR $GNUS $AAL $NAKD dyey_ahr\n",
            "l50gp2 Thank God someone influential is genuinely on our side, btw do you know guys that his cat name is $BB 🚀🚀🚀🚀 Powerful_Finger3896\n",
            "l4tvf9 $BB ‘not aware’ as to why they are flying to Pluto 🚀 SupplyChainOne\n",
            "lg4gx4 Daddy's DD of the week: $BB mattxmortigan\n",
            "ladkf3 Unemployed with $80,000 in student loans and I am HOLDING! These hedge fund losers can pay for my degrees! DIAMOND HANDS!!! $GME $BB $AMC SourPatch69Kids\n",
            "lby0sh I can no longer lurk, and want to boost the LACK OF MORALE HERE AS OF LATE. Down 58K so the natural response was to GET SOME MORE $GME BABY. HOLD YOU APES! diamond hands bb! GeniusBoob\n",
            "l7o0x5 BB 💎✋🏽 WERE IN THIS TOGETHER BOYS, HOLD TO THE MOON! 💎💎💎🚀🚀🚀🚀🦍🦍🦍 prodrummer368\n",
            "loybfh Lucid Motors are looking for a QNX engineer. QNX = $BB Tradergurue\n",
            "l3bqeb $BB most secure system. Get your calls ready similiarintrests\n",
            "lunjq6 BB - a long and factual look at Chen's hints and predictions during earnings calls Night_Runner\n",
            "l4ou90 AMC, GME, BB, PLTR. Started with 3k in December. Oops? Ragnaroktogon\n",
            "lpbae1 Calling all $BB (Big Boys) to the casino Tradergurue\n",
            "lrfvv6 DON'T COUNT $BB OUT! Known-Pop-1964\n",
            "l4tvu6 Have officially joined all the $BB retards sandyplatano\n",
            "le53ol Comprehensive Guide about BB and how it shall take off in coming years whatisgf\n",
            "l3501b $400k deep into $BB... let’s go 😤 monsieurmatthieu\n",
            "l6dzds DO NOT LISTEN TO THE BOTS. HOLD $GME AND BUY $BB. DO NOT LET THEM DIVIDE AND CONQUER. WE ARE GOING TO FUCKING MARS 🚀🚀🚀🚀🚀🚀🚀🚀🚀🚀 HITNUKES\n",
            "l67e0g $AMC $GME $BB ALL HAVE COMMON WITH THIS STOCK... $SNDL lolputs\n",
            "l0xcnz People on Robinhood who own GME are most likely to also own BB and PLTR in their portfolio. 😂 🚀🚀🚀 Vagabond_Hospitality\n",
            "l62mz6 BB waits... I'm just glad I'm here with all of you degenerates... SansaSekiro\n",
            "lhooz1 BB/AMZN Speculation: Blackberry IVY for the automotive industry is just a cover. We are thinking too small. louis_lafaille\n",
            "l655fe WE ARE GOING TO THE MOON BOYS GME BB AND AMC FULL FUCKING SEND 💸🚀💸🚀🚀💸🚀😈🤩🤪🚀 KaiWhytock\n",
            "lfv6li Can we just have a GME BB AMC megathread RaiseYourLenny\n",
            "l8x19c $GME $BB and $AMC when asked if you should buy TravelinMan4\n",
            "l82r4d $BB isn’t recovering today. I can’t fucking average down on RH. I’m holding hoping for a large miracle next week and going to make a drink now. 🙌 Gryffindor85\n",
            "lmkpoc Unrealized Loss Porn GME BB AMC Scri0s\n",
            "l9i61h BANG (BB, AMC, NOK, GME) Donation Megathread BrandinoGames\n",
            "lb01tx Short attacks happening at the exact same time. Blue = GME, Orange = AMC, Teal = BB Kazehara\n",
            "lryqnv HOT $BB Gamma Squeeze DD nta_00\n",
            "l785l4 This is WAR $GME $BB $NOK RssnGopnik\n",
            "l94t1a $NOK is almost certainly a plant. $GME is the most mechanically likely to squeeze, followed by $AMC and $BB hardwaresofton\n",
            "l5fdj3 YOLO into BB. Let’s GOOOO sebastian9876543\n",
            "l6ca65 Please only focus on GME and BB, thanks. This subreddit is being overrun by bots and managers who are shitting themselves. PhantomOwnage\n",
            "l0l05x BB TO THE MOON!!!! 🚀🚀🚀🚀 💎💎👏🏻👏🏻 AnyHoneydew4\n",
            "kxgok2 ALL ABOARD THE RETARDED BB ROCKETSHIP!!!! 🚀🚀🚀🚀🚀🚀🚀🚀🚀🚀 PencesElectrician\n",
            "l44d6y $BB will moon in the short term, but not because of fundamentals. specspecspec\n",
            "lrznso $BB’s Time Has Come 54321rome\n",
            "l0a1p5 The Full DD on $BB: An Elon Musk+Jeff Bezos sandwich for our Supreme Leader John Chen justaneverydaylife\n",
            "l9xfxv $BB More then just hype 30$+ UnRatedGamer\n",
            "lixqdx Summary of all $BB (BlackBerry) fundamentals/news Cutie_Panther\n",
            "lh7as2 BB Stock long term. A future player in electric vehicles? Anonymousman133\n",
            "l5rnr6 Doing my part , BB will take off soon 🚀🚀🚀🚀 leolmw\n",
            "l7znii 10K PL. CURRENTLY 78.97% Short Interest @21.9% FEE. AMC 1 week behind GME!!!!!!! HOLD GME AMC BB NOK 💎💎💎 🚀🚀🚀 ifsksndfhsowo\n",
            "kxbkl6 $BB Is going to take off like a literal rocket Saerithrael\n",
            "l85q4k RH is limiting these stocks by the way https://www.google.com/amp/s/investorplace.com/2021/01/robinhood-bans-reddit-stocks-wallstreetbets-gme-cciv-sndl-jagx-amc-nok-bb/amp/ Snoo_75332\n",
            "l72dsz 📢LISTEN UP!! I'm down 8k. I'm a student and this is an ENTIRE YEARS WORTH OF WAGES FOR ME. But you know what I'm going to do? HOLDDDDDD 💎🙌 Because I BELIEVE in you! Also, FUCK ROBINHOOD!! GME BB!!!🚀🚀🚀 saramagsy\n",
            "lcm8v7 A letter to each of you who bought GME, AMC, NOK, BB. eatlovemerry\n",
            "l7me0s For my BB people out there. I’m holding with you. Zdubzz19\n",
            "l8ogfn Could not have been more proud of all you retards and apes $SLV $GME $NOK $BB $AMC jordanpeterson9\n",
            "l7th4v BB strong incase anyone was doubting I’m 120k deep 🚀🚀🚀🚀 Character_Repair661\n",
            "lrksbz BB - If you are ever near or close by a church, lit a few candles for my dying portfolio. CeleryFamous7044\n",
            "kx7bie 🚀🚀$BB Gang 🚀🚀 faisall1\n",
            "l84cet GME AMC BB NOK etc. to the moon ‼️‼️‼️🚀🚀🚀🚀🚀 WE WILL HOLD 💎🖐🏾 gideh\n",
            "l5sno2 BlackBerry ($BB), Why you need it. DevantLaMachine\n",
            "l3vs7e $BB Bear DD. The case against QNX. TheCloudTamer\n",
            "l5g5co All in on BB bitches let's take the world to the moon 🚀🚀🚀🤑🤑🤑 pornoflickbitches\n",
            "l4wbwk $30,000 into $BB and $NOK!! LET'S GO RETARDS! Ninjapro2\n",
            "lsanze BB gamma squeeze if it closes over $13 credits: u/State_of_Affairs lurking-bob\n",
            "l4p0ap I AINT SELLIN 🚀🚀🚀🚀 BB TO THE FUCKING MOOONN 🌑🌑💎💎🤝🤝🚀🚀🚀🚀🚀 AnyHoneydew4\n",
            "l5yysj BB TOO THE MOON!!!🚀🚀🚀🚀 I did my part did you do yours!? SuhGains\n",
            "l89ks3 [BB] 💎 🙌 in Action. TheAmeritrader\n",
            "kzon9z Don't buy $BB calls, buy $BB shares - Here's why SilbergleitJunior\n",
            "l1k2mv 🚀🚀 $BB 🙌💎 faisall1\n",
            "lau4s8 Missed the Last Dip but Sure as Fuck Won't Miss This One!! $GME, $BB 🤝💎🚀🚀🚀🚀 Cry__Wolf\n",
            "l51deg $BB INSANE CHART ANALYSIS 🚀🚀🚀🚀 itachioversasuke\n",
            "lsydw5 5 years slide of $BB history in one picture Tradergurue\n",
            "lbr27a Sold all my shares this morning.. oh wait I didn’t wake up this morning a paper handed PUSSY #BB #GME #AMC 🙌🏼💎 #FORTHECAUSE draycius\n",
            "l8x6q2 Buy high and hold😂😂 BB to the moon FartCentral55\n",
            "lj544a Notes about BB, Cylance, Amazon, Kuiper, antennas, and why I'm 1000% okay with buying BB at $20. FarceMultiplier\n",
            "l7b7tt Need to squeeze GME if you want AMC, NOK, BB, BBBY, etc to reap the rewards. It’s the gate that’ll allow the rest in. jennysonson\n",
            "lojjl3 BB yolo. If it hits $8 I’ll throw another 10K at it. A big buy and forget about stock. DingoProfessional635\n",
            "l82t7s NOK AND BB ARE BEING MANIPULATED IN THE SAME WAY UnBonCitoyen\n",
            "l8cqm8 Charles “Chad” Payne to a boomer on the right:”I’ve bought BB in my own account almost a year ago. WHO CARES ABOUT YOUR THESIS?! WHO CARES ABOUT YOUR SHORT FUNDAMENTALS?! I told you a year ago about BB 5G technology. These people are not stupid.” GimliSagol\n",
            "l551le 🅱️🅱️ short interest $BB claytonw854\n",
            "l9brtg I know it's GME time but Ill be holding on to these stocks because I like it. BB for long 🚀🚀🚀 otimanob\n",
            "l5t2b2 LETS GO BB & GME BUY AND HOLD LETS FUCKING GO BOYS WE GOING TO THE MOON💸🚀🚀💸🚀💸🚀💸 KaiWhytock\n",
            "kxvwp4 BB GANG - DONT STOP TILL WE REACH THE MOON OF FUCKING ENDOR 🚀🚀🚀🚀🚀🚀🚀🚀 DantesInferno91\n",
            "lreoqz Bb 💎🙌🏾💎🙌🏾 60% down Allinornothing06\n",
            "lb98iz GME AMC BB etc aren't the first and won't be the last. If you're new, stick around. This sub has made many great calls and plenty of us have been down big and managed to turn it around and come out ahead. Just find your next move out if you're a believer just hold and wait BannedForGloating69\n",
            "l8bw88 BB - Vent on the 1/29 calls you had that were killed by suits TheLooza\n",
            "l53z0x BB partnership Lilca87\n"
          ],
          "name": "stdout"
        }
      ]
    },
    {
      "cell_type": "code",
      "metadata": {
        "colab": {
          "base_uri": "https://localhost:8080/"
        },
        "id": "K9k-DjS2DZ6I",
        "outputId": "8c73a457-b7ed-4bd4-bd01-03cac16dcc1f"
      },
      "source": [
        "#now i am going to search for words that are the 'lingo' in the subreddit\r\n",
        "topiclist2 = []\r\n",
        "keywords = 'tendies','diamond hands', 'hold', 'paper hands'\r\n",
        "subreddit = reddit.subreddit('wallstreetbets')\r\n",
        "resp = subreddit.search(keywords, limit=100)\r\n",
        "\r\n",
        "for submission in resp:\r\n",
        "  topiclist2.append(submission.title)\r\n",
        "  sleep(2)\r\n",
        "  print(submission.id,submission.title,submission.author.name)"
      ],
      "execution_count": 38,
      "outputs": [
        {
          "output_type": "stream",
          "text": [
            "It appears that you are using PRAW in an asynchronous environment.\n",
            "It is strongly recommended to use Async PRAW: https://asyncpraw.readthedocs.io.\n",
            "See https://praw.readthedocs.io/en/latest/getting_started/multiple_instances.html#discord-bots-and-asynchronous-environments for more info.\n",
            "\n"
          ],
          "name": "stderr"
        },
        {
          "output_type": "stream",
          "text": [
            "laycdy Paper hand bitch lol The-Good-Morty\n",
            "lef7fe I’m a paper handed bitch. But my student loans are fully paid off now ProductionPlanner\n",
            "lmkzmd We’ve come this far retards, all paper hands are gone and only 💎🙌 remain here at the GME saga, keep hodling the line @GME/AMC, next stop the the moon 🚀🚀🚀. Available-Marsupial8\n",
            "lrofk4 FUCK YOU PAPER HANDED PUSSIES HAHAHA BevoDaywalk\n",
            "lfc03e 🚀 🚀 🚀 COURAGE FOR OUR PAPER HANDS! 🚀 🚀 🚀 (Pt.1) scumbagskalto\n",
            "l4r25v See that dip before the MOASS on VW? This is now. Keep holding no paper hands vasDcrakGaming\n",
            "lb7o5n How my opinions have changed about Dave Portnoy. I bet he took a fat check to encourage paper hands to fold early. Unfollow ❌ ChanceWins\n",
            "lb783x Don’t be this guy. Paper hands Portnoy memebaronofcatan\n",
            "lisez0 I am SHOCKED that paper handing is going on in this sub n33bulz\n",
            "lb9zsz Diamond Hands Spongebob teaches Paper Hands Patrick to hold GME 💎🙌 dankbob_memepants_\n",
            "l6slt8 Paper hands can turn into diamond (credit to /u/nico_bico) prashn64\n",
            "lemiwn Became debt free in one week- too life changing to not paper hand 🚀🚀🚀🚀 Bmachinex\n",
            "lhm0qq Paper hand fucks are ruining good stocks. Newped\n",
            "lrvk72 My Almost Paper Handed Bitch Moment EasyCheesyFondueee\n",
            "lrzg4v THE TALE OF EDWARD PAPER HANDS...he sold yesterday.... Elite_trader_\n",
            "lbc758 You guys are paper handing $GME because you haven't seen the squoze yet and are worried the company is worth nothing Unlockabear\n",
            "l9khny Don't get caught paper handing this week! Zachincool\n",
            "lpy7b1 Sold all other stocks today and went all in on GME and AMC. Not selling again. Paper handed GME before, never again. It's not much but it's a start. 💎🤤🦍 Informal-Disk-165\n",
            "lb3bta Dave Portnoy tries to stay calm and hold, quickly goes paper hands days later jmon25\n",
            "l9l78h My girlfriend's dom been calling my phone, laughed and hang-up because he cashed out at $450. I may be at loss right now but at least I don't have paper hand like him. I'm selling my 1998 minivan to buy more on Monday. 💎💎💎 omgitsye\n",
            "lbtp0q Don't paper hand GME due to boomer bots. Real sentiment data!💎🙌 nobjos\n",
            "lbhyv0 Germany 🇩🇪 just started. I know it may be hard guys, but you only make a loss when you sell! Put your paper hands 🧻🙌🏽 away - It‘s time to show some diamonds 🙌🏽💎🙌🏽🚀🚀 CloZee_\n",
            "l9hjsc If it makes any of you paper handed fucks feel better, many hedge funds are holding too. DO NOT SELL💎💎🚀 Fargraven\n",
            "l56qww If you ever feel paper hands taking over, just remember: Geoffs_Review_Corner\n",
            "l7f8lt Why I Paper Handed GME, Why I'm Buying Back in, and Why I Think All 🧻✋s Should Follow Suit jsmerrill95\n",
            "lcb9eo Dont listen to paper hands Roodren\n",
            "l8vypw MESSAGE TO FUTURE PAPER HANDS PsychoBat\n",
            "lbr27a Sold all my shares this morning.. oh wait I didn’t wake up this morning a paper handed PUSSY #BB #GME #AMC 🙌🏼💎 #FORTHECAUSE draycius\n",
            "lte745 Holy crap, they really are scared. Not only are they trying to scare us into paper hands, their trying to lock the bananas for good and keep them for the hedgies. professorwaldo\n",
            "l8r0f9 Robinhood shows why diamond hands superior, paper hands inferior stupidimagehack\n",
            "lrxp6b Diamond hands !!! Posting my pos for all the paper hand. Marcopolo997\n",
            "l8beg5 I'm normally the biggest paper handed wuss ever but I bought the $27 HIGH, full fucking send rock-hard diamond fisting my 50 shares of BB and 10 24/25 call credit spreads lets take this to the moon next week. It's not even about money anymore, and that means alot coming from my broke ass. 🚀🚀 🚀 Izakoe\n",
            "lbxr51 Alright, who woke up at 9:30 and decided to be a paper handed bitch. demonman101\n",
            "l625ey Paper hands caused me not to be a millionaire... broneilbro\n",
            "lro9th How all the paper hand bitches sounded this past month 😭 🚀🚀🚀🚀🚀🚀🌝🌝🌝🌝🦍🦍🦍🦍🦍🦍🦍🦍💎🙌💎💪🍆 FudgeMcFearsome\n",
            "lqu5bt QQQ and SPY will be down over 3% tomorrow because of paper hands but you can use that to your advantage Mr_Danzilla\n",
            "lao7d8 Mother teaches son how to have paper hands. Watrpologuy\n",
            "la1pwk Right after a bunch of paper handed mf’s threw. Give that guy some crayons 💎🙌 Skystrike12\n",
            "lsnow5 I’ve never made money in the stock market. Lost every time like a true retarded ape. I bought two days ago, thought about selling at today’s peak twice, but I AINT NO PAPER HANDED BITCH. Get to a $420.69 share, and I will get Diamonds tattooed on my nips. Bulky_Employer6834\n",
            "laoe5l IMPORTANT MATH LESSON FOR THE PAPER HANDS - RETAIL OWNS THE $GME FLOAT nscar314\n",
            "la3kk1 Media Demonizing GME Buyers Will Keep Paper Hands Out ZionistKing\n",
            "lnznr1 Loss porn and holding and fuck off paper hands and Melvin and other HF bots all day long. I also watched the whole 5.5 hours of the hearing too so I am in all the way fuckers. PS not counting AMC loss. DiverHikerSkier\n",
            "lak0in Comfort me! I can feel the bitch in me wanting to become paper hands. imsmallandquick\n",
            "lroddw HOLD!! Don’t be a paper handed bitch! 🚀🚀🚀🚀💎💎💎💎 JeeboJeebo\n",
            "kybyxh $BB to the moon. Don't paper hands. John Chen will bring us there kirinboi\n",
            "lbrn8m Dont get paper hands. 💎💎💎 BB 🚀🚀🚀🚀 No_Rooster2676\n",
            "ladqwy To all the paper hands out there Flishy\n",
            "lroj5l Bought at 3:30 today and not fucking paper handing this time. AMC to $50 justadudeonearth\n",
            "l9v6fo VVS Hands. Sheriff of Nottingham might as well delete the sell button because I’ll die before I paper hands 🦍🦍🦍🦍🦍🦍🦍. Time to go gorilla men and squash you know who 🐜🐜🐜🐜 GmeCalls-UrWifesBf\n",
            "l93uwo This is what paper hands looks like. I'm not making the same mistake again.✋💎 Microsoftie2\n",
            "lo9ksf Need some motivation to HODL? Atleast I wasn't a paper hand bitch to hand over my shares. (Note: Added more funds to my X5 CFD trade so that if doesn't hit SL) midoosuperfreeze\n",
            "lbt4zc Paper Hands Portnoy Responds to Backlash after Traitorously Selling Stocks Wafe_Enterprises\n",
            "lcxsot Melvin is hoping that the paper hands will convince the diamond hands that it's over and time to sell. For that reason, I doubled my shares today. I'm either going down with the ship or to the moon 💎🙌 mvisual\n",
            "lsd4ci Momma ain’t raised no PAPER HANDED BITCH 🚀🚀🚀🚀🚀🚀🚀 Dappereddit\n",
            "l9sf1y What u think, am I a paper hands bitch? Spike51\n",
            "lcvptn Bloomberg already reporting on how everyone is fighting eachother on here. Just goes to prove that theirs bots and shit shot journalists snooping on here. All yall paper hands guys got played by media. 💎🤚 all the way. I AINT FUCKING LEAVING Fishyfishy31\n",
            "lchbvp GME REAL TIME TRADES - RELENTLESS SOHRT LADDERING - Paper Hands Please FUCK OFF Polymathturbator\n",
            "l7einq Paper hand support group. I decided to pick up extra shifts at work on 1/13, so I sold in AH on 1/12. Ended up getting COVID (I’m a Nurse). I was so close to quitting my job now sick to my stomach doesn’t begin to describe how I’m feeling. Anyone else retarded? MusicNursingCoffee\n",
            "kqylsr Attention All GME Paper Handed Money Haters jbro12345\n",
            "ls6k76 Paper hands last night 10 minutes before the market close when they trying to buy before the market closes 😆 😝 GME LONDONBOY99K\n",
            "lb0f3v Canadians are still HOLDING!!! No paper hands here... 💎🤲🏼🚀 guillaumelemay\n",
            "l8bcoe GME insiders had paper hands earlier this month, up to $38/share. No insider sales have happened since Jan 15. THICC_LADIES_PM_ME\n",
            "la7h4m Holding through this dip ✋🏼💎 Bought 20 more shares on my shiny new fidelity account too. I DIDNT go buy silver like a shitty toilet paper hand BITCH cagatio_estrenido\n",
            "lbtpv4 Just keep buying you retards, paper handed bitches don't deserve the coming tendies HolyGig\n",
            "lcdeeq Whats with all this pessimism? I thought we got rid of all paper hands? aghost300\n",
            "l6zfao Dear WSB, I sincerely apologize for my paper hands today due to RH fuckery... mas0518\n",
            "lbanld Which one of you paper handed retards is in my car lot buying a V6 Challenger Prestovie\n",
            "ld4tas GME paper hands are out its time for diamond hands to step up Dual270x\n",
            "lavrku The only LOSS porn you paper handed autists get is this: WE LET ELON DOWN 😞 kamikazejesus\n",
            "lodadd I hear that you guys like stocks? Sorry for the paper hands MMinthemirror\n",
            "lail49 Don’t be a paper handed bitch. End of discussion. 💎 hands. Doesn’t matter if you have 1 share or 10,000. Don’t be the husband, be the boyfriend. quyensanity\n",
            "lb14rw Don't be a paper hand, if i can hold you can hold Muddyish\n",
            "lchsxf Paper hands are making me lose hope OtseNash7\n",
            "lcjo0e I sold today. Here’s why my diamonds turned into 1-ply toilet-paper hands. JamesBond95\n",
            "lcw1yr Blue is AMC. Orange is GME scaled down to AMC's price range for easier comparison. HOLDING 420 of AMC @7.63 that I got from some paper hands! EZ. 💎🤲💎🤲 jtree5757\n",
            "lq8l6f GME gains. I didn't paper hand soon enough. newusername21\n",
            "lcd8e6 Why the shakeout of paper hands is a good thing zimmah\n",
            "ld6i8q Actual DD posted in r/options by u/sfjetsetter about how price dip is caused by paper hands OR it's being lowered through Hedge Fund Options trickery LumbridgeBanker\n",
            "l6gpem SHORT POSITIONS DON'T EXPIRE, THEY JUST COST MONEY TO MAINTAIN. DON'T LET HEDGE FUNDS SCARE YOU INTO PAPER HANDING ON FRIDAY bkzhang\n",
            "lbfcbk Mamma didn't raise no paper hand bitch 🦍💪💎🙌 jobonki\n",
            "lbx5ao Me fighting gme bots in the comment section when they try to mess with my paper hand bitches theimmortalmeluhan\n",
            "kqored King tard here again , if anyone remembers me I sold 200 calls of pic at $20k loss when it could have been $200k profit a week later. Well I bought 20k shares of bngo for .57 and sold @ .55!!! Paper handed bitch of the century jamzkourt\n",
            "ls7sq0 Paper Handed Boomers don’t want the tendies. The music never stops. Can’t stop. Won’t stop. GameStop. 💎🙌🏼🚀🚀🚀 aewest41\n",
            "lmd5gm 25k -> 90k -> 60k. Paper handed this one. Good news is I can make other yolos with house money! Any suggestions? (: CompoundMe\n",
            "lb2rjv Ef the hedge funds, ef the media, and ef the paper handed bitches. NOT SELLING 🚀🚀🚀🚀🚀🚀 RazorBacKen\n",
            "lanmnq Alright, hear me out all those paper hands .... Dwigt_Schroot\n",
            "lclp54 If you’re going to 🧻🤲 paper hand porntoy $GME, what are you waiting for?? $30?! The rest of us to join you?! YOU’RE DELAYING OUR BLAST OFF!! 🚀🚀🚀🤲💎🤲 Thumpblog\n",
            "lb220o THIS IS OUR MOMENT APES! THIS WILL NOT BE OVER QUICKLY! OUR POWER LIES IN OUR AGGREGATE NUMBERS. THIS IS A GAME OF CHICKEN. NOW IS NOT THE TIME FOR PAPER HANDS. 💎💎💎💎💎💎💎🙌🏻🙌🏻🙌🏻🙌🏻🙌🏻💎💎💎💎💎💎💎 MoxPlatinum\n",
            "lcsmao Never again trusted you pathetic paper hand apes. SweetGus\n",
            "lcj9gk Sick of the paper hand pussies on this sub. chetsteadmen420\n",
            "kwk3sz Why am I such a paper handed b**ch I need to delete Robinhood ham1zizzle\n",
            "le5df7 Some loss porn for ya! Since some of ya'll got paper hands. Meow__Remix\n",
            "lcsclx I honestly want more paper hand bitches to sell their GME so I can buy at a lower price. Ideally after my next pay check at the end of the month. I’ll hold my GME bag until then, no problem (45 @ £145) CupioDissolvi333\n",
            "ld843a Can't wait for all the paper hands to come back to us when the \"real\" short interest data comes out next week and it's more than 100% on GME AdonnisTheGod\n",
            "l5qpdn Imagine if I held, paper hands gonna pay vinosama\n",
            "ld9mr3 Everyone is hyped now, but please please please don't get the paper hands back on board!!! WholeJingGang\n",
            "lbbdux Huh, didn't know we had so many paper hand investors for GME, lol Becksploder\n",
            "le53le this is what i get for having paper hands... 195 shares sold @ $54 OmgDanny\n",
            "lavjnq Paper hands who is scared af but still holding on! Alchemystx\n",
            "la7q5q Let’s get these tendies. No more paper hand from here on Fayraz8729\n"
          ],
          "name": "stdout"
        }
      ]
    },
    {
      "cell_type": "code",
      "metadata": {
        "colab": {
          "base_uri": "https://localhost:8080/"
        },
        "id": "MwMu1T8IFRUk",
        "outputId": "5b5f81b0-cb83-4959-f4a9-8605cf06e259"
      },
      "source": [
        "#Lastly im am going to look for the mention of DFV, usually how his username is abbreviated.\r\n",
        "topiclist3 = []\r\n",
        "keywords = 'DFV'\r\n",
        "subreddit = reddit.subreddit('wallstreetbets')\r\n",
        "resp = subreddit.search(keywords, limit=100)\r\n",
        "\r\n",
        "for submission in resp:\r\n",
        "  topiclist3.append(submission.title)\r\n",
        "  sleep(2)\r\n",
        "  print(submission.id,submission.title,submission.author.name)"
      ],
      "execution_count": 37,
      "outputs": [
        {
          "output_type": "stream",
          "text": [
            "It appears that you are using PRAW in an asynchronous environment.\n",
            "It is strongly recommended to use Async PRAW: https://asyncpraw.readthedocs.io.\n",
            "See https://praw.readthedocs.io/en/latest/getting_started/multiple_instances.html#discord-bots-and-asynchronous-environments for more info.\n",
            "\n"
          ],
          "name": "stderr"
        },
        {
          "output_type": "stream",
          "text": [
            "lm7n51 Congressional hearings / DFV / GME / etc megathread MotorizedDoucheCanoe\n",
            "lm353n Keith Gill / DFV's Remarks to Congress WorriedBanker\n",
            "lmyan9 DFV’s smile, he’s watching all us apes support him. BAKAYAROUUUUU\n",
            "lod00m I love DFV too, but we need to tone down the simping Suthrnr\n",
            "lmtnxf Rep. Bill H. \"Answer my question, yes or no, would you buy the stock?\" DFV: \"YES.\" WutYoYoYo\n",
            "lmvn9z Forbes quotes DFV t4t0626\n",
            "lro7y5 When he doubles down, I double down. Why? DFV with the in-depth analysis... aceadame\n",
            "lm4svh Key moments from DFV's testimony tomorrow EffingDankrupt\n",
            "lmt3t8 Virgin Vlad vs Chad DFV theycallmeryan\n",
            "lmsin0 GME turns GREEN when DFV speaks love you autists. HE LIKES THE STOCK! nickolasjt\n",
            "lhvzuq GME long. DFV had it right on the fundamentals in market context and still has it right. 0_ol\n",
            "l7sjdx DFV keenfeed\n",
            "ladpjy IF I CAN HOLD AND DFV CAN HOLD, SO CAN ALL YOU RETARDS. WE NEED MORE HYPE IN THIS BITCH LIKE LAST WEEK.💎🙌💎🙌💎🙌🚀🚀🚀🚀🚀🚀 EnderDelphox\n",
            "lm3pqa Will we finally be able to see Vlad and DFV in the same room? caler5\n",
            "lld01t Michael Burry sold all of his $GME before the DFV insanity happened IceBearLikesToCook\n",
            "lrq3rs DFV, the true Diamond Hands 💎🙌🏼 SoulEater_\n",
            "l6a5z5 DFV(u/DeepFuckingValue) Just Got A Shoutout From Our Favorite Analyst OOminati1\n",
            "lirhx9 DFV vs Melvin and Robinhood live 0lamegamer0\n",
            "lff3g1 Something I noticed people have confused about DFV and WSB. ChanzyChan\n",
            "lmxrnk u/dfv testifies before congress (2021 - colorized) nicknaseef17\n",
            "l941bw GameStop covered in Taiwan news featuring DFV 🚀🚀🚀 qwlow\n",
            "l9m4q9 \"What's an exit strategy?\" -dfv Dispose_Paratroopers\n",
            "lmshub DFV starts testimony *Dusty Screen* Lowviscosity\n",
            "ltd1h9 Squazozzle update 2/26: Citadelvin tried so hard today. DFV ain't fuckin' leaving and neither are we! Drive it to $40 again, I beg you. moazzam0\n",
            "lmvit7 DFV would still buy GME today between 45 and 48 dollars. Video added for proof. Diligent-Charge-4910\n",
            "lt4ys4 GME $6600 to $35000. Thank you DFV! bmlake21\n",
            "l9rkn3 Why I feel a little bad for DFV Aurtach\n",
            "la7zx5 IF DFV IS HOLDING, I AM HOLDING Kheraxis\n",
            "l39iao $GME update $28k -> $284k -> $3.8m / can DFV plz deepfuckingdickme? arzelr\n",
            "lmv2gj Rep. Zeldin: \"... and you (Our dear Lord DFV) found Deep you know what value\" MelemZaOci\n",
            "lm7tjl You may have seen my comment in DFV’s lawsuit, but it’s a lie. Here’s a Reddit post of mine saying why I picked the stock from 51 days ago, before that comment happened. I Just Like The Stock. 40 shares and holding 💎🙌 Kitties-N-Titties-11\n",
            "ls50ll The real reason that DFV rarely shows his face anymore... EliWest721\n",
            "lafezg SpaceX announces their first civilian mission targeted later this year. Seats will be donated to individuals who represent leadership, hope, generosity, and prosperity. We need to ensure DFV gets a seat, as he truly is the embodiment of those qualities! im_pride\n",
            "l7hb3g I think DFV likes this stock sandawg_\n",
            "l7j0xq Just saw Reuters doxxed DFV. Just want to say he did everything right, so stay strong! What a great success story for this guy. American Dream. rhone404\n",
            "lllfnc Hagens Berman’s Files Class Action Lawsuit against DFV dwdsquared2\n",
            "lm1kv5 u/Kitties-N-Titties-11 you made it into the DFV lawsuit Chipmaker\n",
            "lc1h96 DFV isnt going to sell, SEC just looking to hurt the little guys R333reee\n",
            "lbykgq Everyone waiting for DFV to post, wondering if he will MangoManYummy\n",
            "lb6g5y (GME DD) Empire Strikes Back, or why you should still trust DFV. bakatronium\n",
            "lrtcpc DFV new WSB Legend? MarkWantsToQuit\n",
            "lqlnsw Got 1000shares of GME back. I actually sold and took the L but DFV double down changed my mind. HODL🚀🚀🚀 Comprehensive_Ear114\n",
            "lq4gtz DFV and GME, my first meme vid i hope y’all like it XpensivPasta\n",
            "l8zwoy Not DFV but it’s honest work. From $9k to $1.1M - trades in previous posts itsonlyfiat\n",
            "l9mta5 Dkruta draw this for all of us! May DFV give tendies to all! Let’s go 🚀🚀🚀 dhiral1994\n",
            "loptmf Figured I’d join the loss porn club.... sorta. It’s been a great ride with NIO but I’m pretty sure you can see where I could have been with GME and AMC. Still holding with these 💎🙌. If DFV can buy more, so can you. 🚀🚀🚀 🌕 Cusker6\n",
            "lp2yzh U/DFV the Legend of Baba Yaga Metha_trader\n",
            "lpvp78 An analysis of DFV's GME positions over the last 2 months mrmrmrj\n",
            "l7e9f3 DFV's afterhours speech to WSB after diamond handing today 8s_and_up_only\n",
            "lq6rkp I was bored this afternoon and tallied up all of DFV's Awards that give rewards from his $GME Yolo posts. fivestageEnduro\n",
            "l5psvm One hell of a journey. Thanks for changing my life WSB, GME, DFV and many other OG bulls. $0 -> $175k -> -$100k -> $1.3m H1DD3N_LURK3R\n",
            "lc65zq LAWSUITS PURRING TO HIT DFV. @MASS MUTUAL HIT MELVIN FIRST. — OH WAIT, WHO IS ROBIN-U-INTHE-HOOD? NewUser1209\n",
            "l7dvld Thank you DFV, and the rest of you Spartans for holding the line with me this last month. I still have 12k Stonks and I bought some options today that I am even not sure what they even do. skwolf522\n",
            "ls9rrg Ladies & gentleman welcome to flight GME69420. Please welcome our special passengers Mr. Cohen, Mr. DFV, Mr. Musk, Mr. Palihakfbrufbbev & the WSB army. Fasten your seatbelts and enjoy the flight 🚀🚀🚀 therealespanol\n",
            "lmhbl3 Fundamental error in the docket for the lawsuit against DFV iikun\n",
            "l7q3zq This has been painful. I am no u/DFV but I am holding. 💎💎💎✋🏽✋🏽✋🏽 mastahkilla90\n",
            "l8bi37 GME next shareholder meeting if our lord DFV becomes one of the board directors A_Random_Guy_999\n",
            "l8yi4o DFV this weekend after everyone leaves his house party deltamoney\n",
            "l8f83y This is what DFV did. Bow down to the king 👑 babayogi\n",
            "l9lsfq DFV with hidden message HOLDDDDDDDDD 🚀🚀🚀🚀 dhiral1994\n",
            "ld29gg GERMANY FIGHTING HARD - WE WILL MAKE HISTORY TODAY! 20$ EOD I DONT FCKING CARE. ROBINHOOD LIFTED ALL RESTRICTIONS ON TRADING. APES HOLD STRONG, RELOAD AND TOGETHER WITH AUSTISTS, RETARDS, WIFES WITHOUT BF, PAPA MUSK, UNCLE DFV WE WILL ARRIVE ON PLUTO. NOTHING MATTERS TODAY THAN GME AND AMC. eneswitwit\n",
            "lt9te9 I am the antithesis to DFV. Took a big bet and lost. BB sucks balls, seriously. just_lick_my_ass\n",
            "lm1m2m DFV Lawsuit...So not all that glitters is gold 🥸 tutsmailreds\n",
            "lmwnq9 GME Hearing - DFV: I am not a cat lurklurklurkanon\n",
            "ld5wy5 Is DFV still holding? Plus-Measurement-777\n",
            "lbc19a \"I\" need to disassociate DFV with this influx of Retail Investors and GME as a whole. And WSB needs to stop acting like the rampant mob mentality didn't get \"me\" here. Markymaze\n",
            "lmqqro My brain is so smooth, but my hands are diamond. Good luck DFV, let me know when you find the sell button. TheCrownedPixel\n",
            "lscfj1 DFV is in control now thedeathofmoney\n",
            "lrs4c9 DFV: Age of Autism 💎🙌🦍🚀 Cary-S-Kellington\n",
            "l84tgd hi papa RC and DFV...am i exercising properly?! exercised 10 contracts early.$22k for 1k shares powahTEN\n",
            "lq5zja Made this a couple weeks ago. Tribute to u/DFV. To the moon 🚀🚀 *AUDIO ON* devendrone\n",
            "l7m985 A Message from DFV to You about Melvin! deltamoney\n",
            "lbgu7e DFV Hold Gladen1\n",
            "l9v56y I wish I knew about market manipulators and short sellers a few months ago. I also wished to know what DFV thought about GME. Some people in here thought I was stupid to hold my GME shares. we_know_each_other\n",
            "laq1iy If DFV is still holding, I'M STILL HOLDING Quickballer425\n",
            "l7o7q0 Open letter to DFV - Please don't sell GME HungryOne55\n",
            "lbgy2f The real lesson we all need to learn from GME and DFV PM_ME_YOUR_UVULA_PLS\n",
            "l7vjmw DFV interview with WSJ (he wasn’t doxxed) Squidssential\n",
            "lai3hb If I can hold through the a -120k loss, so can you! If DFV is still in, I’m still in. Fuck hedge funds! 🦍🦍🦍💎🙌🚀🚀🚀🚀 pinkcoco13\n",
            "larrch How I view DFV when he posts his YOLO update BadassMcGass\n",
            "lb67yq An honest discussion on why DFV hasn't sold... timtruth\n",
            "lafozl With so much BS, bots and fake news it’s getting harder to keep track of real information and updates from trusted, credible sources. Where are you guys getting your news from? Are there any fellow autists, aside from DFV, that we should follow for their take on things? Mr_RandomThoughts\n",
            "l88flr DFV moving into the wine business LGmonitor456\n",
            "ldhwnj The Hedgies are gonna go after his employer too! God Speed DFV! GMendelent\n",
            "laeh7r IF DFV IS STILL IN THEN IM STILL IN Alternative_Celery_2\n",
            "l90ujx Our king u/DFV getting the recognition he deserves in a Singaporean newspaper 🚀🚀 I-am-the-senate-501\n",
            "lry5ev Melvin vs DFV Walkur\n",
            "lauyyv GME LOSS, it's not DFV level but ouch. Diamond hands though! jorel43\n",
            "lrzadb DFV Never Lost the Faith dicedece\n",
            "ldqouf Dfv needs to plead the fifth at the Congressional hearing. Not because he did anything illegal, but because the elite want to tar and feather him. Paladinhgwtx\n",
            "lbtm1u Hometown of DFV! Brockton, MA “City of Champs” 💎🤲🏼 HerStory__\n",
            "lvajki If you are in any doubt ask yourself, \"Would DFV sell at this price?\" tofu118\n",
            "laepom Point72 wooing DFV's tendies Optimistic_Twig\n",
            "l36ju9 The Big Squeeze feat. Dr. Michael Fuckin' Burry & u/DFV (Big Short Sequel) captain_blabbin\n",
            "lclph1 Just a friendly reminder that DFV said he won't post today, so don't freak out itsmerandymarch\n",
            "ln55lj EVERY DFV TWEET ON GME SINCE 8 NOV 2020 (thank me later) 🚀🚀🚀🚀🚀 RepresentativeIll627\n",
            "lc78on If DFV goes to jail do we have a civil duty to rally GameStop stock LebaneseFudge\n",
            "lc8n7d I want to thank all of you, and most importantly DFV. TEMPLERTV\n",
            "ldfpkh DFV isn't an average Joe, so he can't like the stock. :-( Worstdad69\n",
            "ln6rxw DFV topped NASA's Perseverance! Fooking Legend! SometimesIBleed\n"
          ],
          "name": "stdout"
        }
      ]
    },
    {
      "cell_type": "markdown",
      "metadata": {
        "id": "5j-YSxXOHNF-"
      },
      "source": [
        "Just checking to make sure a topic list has the posts saved.\r\n"
      ]
    },
    {
      "cell_type": "code",
      "metadata": {
        "colab": {
          "base_uri": "https://localhost:8080/"
        },
        "id": "WSEw67VQjlow",
        "outputId": "afd87799-cae8-41eb-f785-3015eb648e55"
      },
      "source": [
        "len(topiclist2)"
      ],
      "execution_count": 72,
      "outputs": [
        {
          "output_type": "execute_result",
          "data": {
            "text/plain": [
              "100"
            ]
          },
          "metadata": {
            "tags": []
          },
          "execution_count": 72
        }
      ]
    },
    {
      "cell_type": "code",
      "metadata": {
        "colab": {
          "base_uri": "https://localhost:8080/"
        },
        "id": "B-__wCVhDnRW",
        "outputId": "1aaa0055-7da2-4498-a473-9fe46fd013e1"
      },
      "source": [
        "print(topiclist1)"
      ],
      "execution_count": 40,
      "outputs": [
        {
          "output_type": "stream",
          "text": [
            "['Don’t be scared by the drop in $BB $GME etc. Hedge Funds trade after hours to scare y’all off... KEEP BUYING AND HOLDING 🚀🚀', \"BB - Now you see why Wall Street wants to keep this under $15. Let's make them pay out all these contracts tomorrow. PT: $30+\", 'YOU CAN STILL BUY GME & BB on WeBull, eTrade, fidelity, and others, post your platform of choice and keep those 💎🙌🏻 strong!', 'Lawmakers side with retail investors against Wall Street institutions !!!!!!! GME AMC BB NOK 🚀🚀🚀', '$GME, $BB, $NOK, $AMC Option Expiry Today - VERY CLOSE TO BEING HUGE', 'GME with AMC and BB overlay - Virtually Identical.', '$BB mic dropped about SolarWinds a few hours ago, bless 💎Papa Chen.💎 🚀🚀🚀🚀🚀👨\\u200d🚀', '$NOK $BB $BBBY $GME $AMC $EXPR', 'All the same game, NOK BB GME AMC Chart Correlation', 'A Friendly Reminder to BANG (BB, AMC, NOK, GME) Gang', 'Aussie here supporting the cause! GME and BB with another $10k ready for market open. 💎🙌 Strong together!', 'Zacks just upgraded BB. Price Target $29', 'BB workin its way to the moon 🚀🚀🚀', '$BANG (BB, AMC, NOK, GME) Options Volume Analysis', 'AMC, BB AND MOST IMPORTANTLY GME WILL BE BACK! HOLD THE LINE 💎🙌', 'The Next Wall Street Barrier: The weekend cool down ❄️ #KEEPSQUEEZING AMC GME NOK BB 🚀🌕💰💎🙌🏻', '$BB DD thread: Why this retard believes the fair market value for $BB is $45. Obligatory 🚀🚀🚀🚀🚀🚀🚀', '$BB gonna fly after this', 'Citadel has blocked all trading partners (Such as Robinhood) to trade GME, BB and others. As over 40% of all trades in the US market are via Citadel, they are artificially limiting the supply balance to reduce these stocks in their favour.', 'These were all the stocks that Robinhood blocked: $GME $KOSS $AMC $NOK $BB $BBBY $VIR $GNUS $AAL $NAKD', 'Thank God someone influential is genuinely on our side, btw do you know guys that his cat name is $BB 🚀🚀🚀🚀', '$BB ‘not aware’ as to why they are flying to Pluto 🚀', \"Daddy's DD of the week: $BB\", 'Unemployed with $80,000 in student loans and I am HOLDING! These hedge fund losers can pay for my degrees! DIAMOND HANDS!!! $GME $BB $AMC', 'I can no longer lurk, and want to boost the LACK OF MORALE HERE AS OF LATE. Down 58K so the natural response was to GET SOME MORE $GME BABY. HOLD YOU APES! diamond hands bb!', 'BB 💎✋🏽 WERE IN THIS TOGETHER BOYS, HOLD TO THE MOON! 💎💎💎🚀🚀🚀🚀🦍🦍🦍', 'Lucid Motors are looking for a QNX engineer. QNX = $BB', '$BB most secure system. Get your calls ready', \"BB - a long and factual look at Chen's hints and predictions during earnings calls\", 'AMC, GME, BB, PLTR. Started with 3k in December. Oops?', 'Calling all $BB (Big Boys) to the casino', \"DON'T COUNT $BB OUT!\", 'Have officially joined all the $BB retards', 'Comprehensive Guide about BB and how it shall take off in coming years', '$400k deep into $BB... let’s go 😤', 'DO NOT LISTEN TO THE BOTS. HOLD $GME AND BUY $BB. DO NOT LET THEM DIVIDE AND CONQUER. WE ARE GOING TO FUCKING MARS 🚀🚀🚀🚀🚀🚀🚀🚀🚀🚀', '$AMC $GME $BB ALL HAVE COMMON WITH THIS STOCK... $SNDL', 'People on Robinhood who own GME are most likely to also own BB and PLTR in their portfolio. 😂 🚀🚀🚀', \"BB waits... I'm just glad I'm here with all of you degenerates...\", 'BB/AMZN Speculation: Blackberry IVY for the automotive industry is just a cover. We are thinking too small.', 'WE ARE GOING TO THE MOON BOYS GME BB AND AMC FULL FUCKING SEND 💸🚀💸🚀🚀💸🚀😈🤩🤪🚀', 'Can we just have a GME BB AMC megathread', '$GME $BB and $AMC when asked if you should buy', '$BB isn’t recovering today. I can’t fucking average down on RH. I’m holding hoping for a large miracle next week and going to make a drink now. 🙌', 'Unrealized Loss Porn GME BB AMC', 'BANG (BB, AMC, NOK, GME) Donation Megathread', 'Short attacks happening at the exact same time. Blue = GME, Orange = AMC, Teal = BB', 'HOT $BB Gamma Squeeze DD', 'This is WAR $GME $BB $NOK', '$NOK is almost certainly a plant. $GME is the most mechanically likely to squeeze, followed by $AMC and $BB', 'YOLO into BB. Let’s GOOOO', 'Please only focus on GME and BB, thanks. This subreddit is being overrun by bots and managers who are shitting themselves.', 'BB TO THE MOON!!!! 🚀🚀🚀🚀 💎💎👏🏻👏🏻', 'ALL ABOARD THE RETARDED BB ROCKETSHIP!!!! 🚀🚀🚀🚀🚀🚀🚀🚀🚀🚀', '$BB will moon in the short term, but not because of fundamentals.', '$BB’s Time Has Come', 'The Full DD on $BB: An Elon Musk+Jeff Bezos sandwich for our Supreme Leader John Chen', '$BB More then just hype 30$+', 'Summary of all $BB (BlackBerry) fundamentals/news', 'BB Stock long term. A future player in electric vehicles?', 'Doing my part , BB will take off soon 🚀🚀🚀🚀', '10K PL. CURRENTLY 78.97% Short Interest @21.9% FEE. AMC 1 week behind GME!!!!!!! HOLD GME AMC BB NOK 💎💎💎 🚀🚀🚀', '$BB Is going to take off like a literal rocket', 'RH is limiting these stocks by the way https://www.google.com/amp/s/investorplace.com/2021/01/robinhood-bans-reddit-stocks-wallstreetbets-gme-cciv-sndl-jagx-amc-nok-bb/amp/', \"📢LISTEN UP!! I'm down 8k. I'm a student and this is an ENTIRE YEARS WORTH OF WAGES FOR ME. But you know what I'm going to do? HOLDDDDDD 💎🙌 Because I BELIEVE in you! Also, FUCK ROBINHOOD!! GME BB!!!🚀🚀🚀\", 'A letter to each of you who bought GME, AMC, NOK, BB.', 'For my BB people out there. I’m holding with you.', 'Could not have been more proud of all you retards and apes $SLV $GME $NOK $BB $AMC', 'BB strong incase anyone was doubting I’m 120k deep 🚀🚀🚀🚀', 'BB - If you are ever near or close by a church, lit a few candles for my dying portfolio.', '🚀🚀$BB Gang 🚀🚀', 'GME AMC BB NOK etc. to the moon ‼️‼️‼️🚀🚀🚀🚀🚀 WE WILL HOLD 💎🖐🏾', 'BlackBerry ($BB), Why you need it.', '$BB Bear DD. The case against QNX.', \"All in on BB bitches let's take the world to the moon 🚀🚀🚀🤑🤑🤑\", \"$30,000 into $BB and $NOK!! LET'S GO RETARDS!\", 'BB gamma squeeze if it closes over $13 credits: u/State_of_Affairs', 'I AINT SELLIN 🚀🚀🚀🚀 BB TO THE FUCKING MOOONN 🌑🌑💎💎🤝🤝🚀🚀🚀🚀🚀', 'BB TOO THE MOON!!!🚀🚀🚀🚀 I did my part did you do yours!?', '[BB] 💎 🙌 in Action.', \"Don't buy $BB calls, buy $BB shares - Here's why\", '🚀🚀 $BB 🙌💎', \"Missed the Last Dip but Sure as Fuck Won't Miss This One!! $GME, $BB 🤝💎🚀🚀🚀🚀\", '$BB INSANE CHART ANALYSIS 🚀🚀🚀🚀', '5 years slide of $BB history in one picture', 'Sold all my shares this morning.. oh wait I didn’t wake up this morning a paper handed PUSSY #BB #GME #AMC 🙌🏼💎 #FORTHECAUSE', 'Buy high and hold😂😂 BB to the moon', \"Notes about BB, Cylance, Amazon, Kuiper, antennas, and why I'm 1000% okay with buying BB at $20.\", 'Need to squeeze GME if you want AMC, NOK, BB, BBBY, etc to reap the rewards. It’s the gate that’ll allow the rest in.', 'BB yolo. If it hits $8 I’ll throw another 10K at it. A big buy and forget about stock.', 'NOK AND BB ARE BEING MANIPULATED IN THE SAME WAY', 'Charles “Chad” Payne to a boomer on the right:”I’ve bought BB in my own account almost a year ago. WHO CARES ABOUT YOUR THESIS?! WHO CARES ABOUT YOUR SHORT FUNDAMENTALS?! I told you a year ago about BB 5G technology. These people are not stupid.”', '🅱️🅱️ short interest $BB', \"I know it's GME time but Ill be holding on to these stocks because I like it. BB for long 🚀🚀🚀\", 'LETS GO BB & GME BUY AND HOLD LETS FUCKING GO BOYS WE GOING TO THE MOON💸🚀🚀💸🚀💸🚀💸', 'BB GANG - DONT STOP TILL WE REACH THE MOON OF FUCKING ENDOR 🚀🚀🚀🚀🚀🚀🚀🚀', 'Bb 💎🙌🏾💎🙌🏾 60% down', \"GME AMC BB etc aren't the first and won't be the last. If you're new, stick around. This sub has made many great calls and plenty of us have been down big and managed to turn it around and come out ahead. Just find your next move out if you're a believer just hold and wait\", 'BB - Vent on the 1/29 calls you had that were killed by suits', 'BB partnership']\n"
          ],
          "name": "stdout"
        }
      ]
    },
    {
      "cell_type": "markdown",
      "metadata": {
        "id": "OyN03-UyH2Oa"
      },
      "source": [
        "I want to run each of my topic lists through a list that will tell me which key word was in the post. Then I can count them and graph them.\r\n"
      ]
    },
    {
      "cell_type": "code",
      "metadata": {
        "colab": {
          "base_uri": "https://localhost:8080/"
        },
        "id": "tMR78Ma3JeCd",
        "outputId": "f8a00c03-ef3c-4ec4-e03f-8eb64fc218a4"
      },
      "source": [
        "stock = []\r\n",
        "for topic in topiclist1:\r\n",
        "  if 'GME' in topic:\r\n",
        "    gamestop=('GME')\r\n",
        "    stock.append(gamestop)\r\n",
        "  if 'BB' in topic:\r\n",
        "    blackberry=('BB')\r\n",
        "    stock.append(blackberry)\r\n",
        "  if 'AMC' in topic:\r\n",
        "    movies=('AMC')\r\n",
        "    stock.append(movies)\r\n",
        "else: \r\n",
        "  print('error')"
      ],
      "execution_count": 43,
      "outputs": [
        {
          "output_type": "stream",
          "text": [
            "error\n"
          ],
          "name": "stdout"
        }
      ]
    },
    {
      "cell_type": "code",
      "metadata": {
        "colab": {
          "base_uri": "https://localhost:8080/"
        },
        "id": "aULVPIR5SeGS",
        "outputId": "fd94b589-cfc3-4356-f239-aefea6170aad"
      },
      "source": [
        "#print out the new stock list. Be able to count after.\r\n",
        "stock"
      ],
      "execution_count": 44,
      "outputs": [
        {
          "output_type": "execute_result",
          "data": {
            "text/plain": [
              "['GME',\n",
              " 'BB',\n",
              " 'BB',\n",
              " 'GME',\n",
              " 'BB',\n",
              " 'GME',\n",
              " 'BB',\n",
              " 'AMC',\n",
              " 'GME',\n",
              " 'BB',\n",
              " 'AMC',\n",
              " 'GME',\n",
              " 'BB',\n",
              " 'AMC',\n",
              " 'BB',\n",
              " 'GME',\n",
              " 'BB',\n",
              " 'AMC',\n",
              " 'GME',\n",
              " 'BB',\n",
              " 'AMC',\n",
              " 'GME',\n",
              " 'BB',\n",
              " 'AMC',\n",
              " 'GME',\n",
              " 'BB',\n",
              " 'BB',\n",
              " 'BB',\n",
              " 'GME',\n",
              " 'BB',\n",
              " 'AMC',\n",
              " 'GME',\n",
              " 'BB',\n",
              " 'AMC',\n",
              " 'GME',\n",
              " 'BB',\n",
              " 'AMC',\n",
              " 'BB',\n",
              " 'BB',\n",
              " 'GME',\n",
              " 'BB',\n",
              " 'GME',\n",
              " 'BB',\n",
              " 'AMC',\n",
              " 'BB',\n",
              " 'BB',\n",
              " 'BB',\n",
              " 'GME',\n",
              " 'BB',\n",
              " 'AMC',\n",
              " 'GME',\n",
              " 'BB',\n",
              " 'BB',\n",
              " 'BB',\n",
              " 'BB',\n",
              " 'GME',\n",
              " 'BB',\n",
              " 'AMC',\n",
              " 'BB',\n",
              " 'BB',\n",
              " 'BB',\n",
              " 'BB',\n",
              " 'BB',\n",
              " 'GME',\n",
              " 'BB',\n",
              " 'GME',\n",
              " 'BB',\n",
              " 'AMC',\n",
              " 'GME',\n",
              " 'BB',\n",
              " 'BB',\n",
              " 'BB',\n",
              " 'GME',\n",
              " 'BB',\n",
              " 'AMC',\n",
              " 'GME',\n",
              " 'BB',\n",
              " 'AMC',\n",
              " 'GME',\n",
              " 'BB',\n",
              " 'AMC',\n",
              " 'BB',\n",
              " 'GME',\n",
              " 'BB',\n",
              " 'AMC',\n",
              " 'GME',\n",
              " 'BB',\n",
              " 'AMC',\n",
              " 'GME',\n",
              " 'BB',\n",
              " 'AMC',\n",
              " 'BB',\n",
              " 'GME',\n",
              " 'BB',\n",
              " 'GME',\n",
              " 'BB',\n",
              " 'AMC',\n",
              " 'BB',\n",
              " 'GME',\n",
              " 'BB',\n",
              " 'BB',\n",
              " 'BB',\n",
              " 'BB',\n",
              " 'BB',\n",
              " 'BB',\n",
              " 'BB',\n",
              " 'BB',\n",
              " 'BB',\n",
              " 'BB',\n",
              " 'GME',\n",
              " 'BB',\n",
              " 'AMC',\n",
              " 'BB',\n",
              " 'GME',\n",
              " 'BB',\n",
              " 'GME',\n",
              " 'BB',\n",
              " 'AMC',\n",
              " 'BB',\n",
              " 'GME',\n",
              " 'BB',\n",
              " 'AMC',\n",
              " 'BB',\n",
              " 'BB',\n",
              " 'BB',\n",
              " 'GME',\n",
              " 'BB',\n",
              " 'AMC',\n",
              " 'BB',\n",
              " 'BB',\n",
              " 'BB',\n",
              " 'BB',\n",
              " 'BB',\n",
              " 'BB',\n",
              " 'BB',\n",
              " 'BB',\n",
              " 'BB',\n",
              " 'BB',\n",
              " 'GME',\n",
              " 'BB',\n",
              " 'BB',\n",
              " 'BB',\n",
              " 'GME',\n",
              " 'BB',\n",
              " 'AMC',\n",
              " 'BB',\n",
              " 'BB',\n",
              " 'GME',\n",
              " 'BB',\n",
              " 'AMC',\n",
              " 'BB',\n",
              " 'BB',\n",
              " 'BB',\n",
              " 'BB',\n",
              " 'GME',\n",
              " 'BB',\n",
              " 'GME',\n",
              " 'BB',\n",
              " 'BB',\n",
              " 'GME',\n",
              " 'BB',\n",
              " 'AMC',\n",
              " 'BB',\n",
              " 'BB']"
            ]
          },
          "metadata": {
            "tags": []
          },
          "execution_count": 44
        }
      ]
    },
    {
      "cell_type": "code",
      "metadata": {
        "colab": {
          "base_uri": "https://localhost:8080/"
        },
        "id": "IoFQMSpdXW6D",
        "outputId": "76517492-2a48-4cc2-f4c4-6f5ced0fc93f"
      },
      "source": [
        "stock.count('BB')"
      ],
      "execution_count": 48,
      "outputs": [
        {
          "output_type": "execute_result",
          "data": {
            "text/plain": [
              "97"
            ]
          },
          "metadata": {
            "tags": []
          },
          "execution_count": 48
        }
      ]
    },
    {
      "cell_type": "markdown",
      "metadata": {
        "id": "SXX3KnSuc0-0"
      },
      "source": [
        "Now I have to make the lists for the other topic lists.\r\n"
      ]
    },
    {
      "cell_type": "code",
      "metadata": {
        "colab": {
          "base_uri": "https://localhost:8080/"
        },
        "id": "WL70zTz2c3yM",
        "outputId": "afb9bd9f-6516-49b2-e702-da54b3301e79"
      },
      "source": [
        "lingo = []\r\n",
        "for topic in topiclist2:\r\n",
        "  if 'tendies' in topic:\r\n",
        "    tendies=('tendies')\r\n",
        "    lingo.append(tendies)\r\n",
        "  if 'diamond hands' in topic:\r\n",
        "    dh=('diamond hands')\r\n",
        "    lingo.append(dh)\r\n",
        "  if 'paper hands' in topic:\r\n",
        "    ph=('paper hands')\r\n",
        "    lingo.append(ph)\r\n",
        "  if 'hold' in topic:\r\n",
        "    hld=('hold')\r\n",
        "    lingo.append(hld)\r\n",
        "else: \r\n",
        "  print('error')"
      ],
      "execution_count": 49,
      "outputs": [
        {
          "output_type": "stream",
          "text": [
            "error\n"
          ],
          "name": "stdout"
        }
      ]
    },
    {
      "cell_type": "code",
      "metadata": {
        "colab": {
          "base_uri": "https://localhost:8080/"
        },
        "id": "gHXkTKRWdZ1V",
        "outputId": "ab1336e8-e244-4339-cf58-0c98670c026a"
      },
      "source": [
        "len(lingo)"
      ],
      "execution_count": 73,
      "outputs": [
        {
          "output_type": "execute_result",
          "data": {
            "text/plain": [
              "51"
            ]
          },
          "metadata": {
            "tags": []
          },
          "execution_count": 73
        }
      ]
    },
    {
      "cell_type": "code",
      "metadata": {
        "colab": {
          "base_uri": "https://localhost:8080/"
        },
        "id": "enKp83AOdfr_",
        "outputId": "03dd0cbc-4727-4019-d6dc-4ceb93ce967d"
      },
      "source": [
        "# I want to search these titles for words that could be used as following his lead or advice. Things like still in, 'like the stock', and GME as this is the stock he is mostly associated with.\r\n",
        "DFVlist = []\r\n",
        "for topic in topiclist3:\r\n",
        "  if 'GME' in topic:\r\n",
        "    gamestop=('GME')\r\n",
        "    DFVlist.append(gamestop)\r\n",
        "  if 'like the stock' in topic:\r\n",
        "    lts=('like the stock')\r\n",
        "    DFVlist.append(lts)\r\n",
        "  if 'still in' in topic:\r\n",
        "    si=('still in')\r\n",
        "    DFVlist.append(si)\r\n",
        "else: \r\n",
        "  print('error')"
      ],
      "execution_count": 51,
      "outputs": [
        {
          "output_type": "stream",
          "text": [
            "error\n"
          ],
          "name": "stdout"
        }
      ]
    },
    {
      "cell_type": "code",
      "metadata": {
        "colab": {
          "base_uri": "https://localhost:8080/"
        },
        "id": "jIidlgd8eKOt",
        "outputId": "fe2147aa-01f6-47bf-8ea6-f0a8905350c6"
      },
      "source": [
        "DFVlist"
      ],
      "execution_count": 52,
      "outputs": [
        {
          "output_type": "execute_result",
          "data": {
            "text/plain": [
              "['GME',\n",
              " 'GME',\n",
              " 'GME',\n",
              " 'GME',\n",
              " 'GME',\n",
              " 'GME',\n",
              " 'GME',\n",
              " 'GME',\n",
              " 'GME',\n",
              " 'GME',\n",
              " 'GME',\n",
              " 'GME',\n",
              " 'GME',\n",
              " 'GME',\n",
              " 'GME',\n",
              " 'GME',\n",
              " 'GME',\n",
              " 'GME',\n",
              " 'GME',\n",
              " 'GME',\n",
              " 'GME',\n",
              " 'GME',\n",
              " 'still in',\n",
              " 'GME',\n",
              " 'GME',\n",
              " 'like the stock']"
            ]
          },
          "metadata": {
            "tags": []
          },
          "execution_count": 52
        }
      ]
    },
    {
      "cell_type": "markdown",
      "metadata": {
        "id": "9rd2w9VCelLz"
      },
      "source": [
        "So now that I have lists with the 'phrases' isolated, I want to make them into dataframes, so I am able to graph them. I have to import pandas and numpy for that."
      ]
    },
    {
      "cell_type": "code",
      "metadata": {
        "id": "jx0kCO4kf_FP"
      },
      "source": [
        "import pandas as pd\r\n",
        "import numpy as np\r\n",
        "import matplotlib as plot"
      ],
      "execution_count": 56,
      "outputs": []
    },
    {
      "cell_type": "code",
      "metadata": {
        "id": "8rTzccm4g24a"
      },
      "source": [
        "#make stock list into dataframe\r\n",
        "from pandas import DataFrame\r\n",
        "stocks = pd.DataFrame (stock,columns=['ticker'])"
      ],
      "execution_count": 82,
      "outputs": []
    },
    {
      "cell_type": "code",
      "metadata": {
        "colab": {
          "base_uri": "https://localhost:8080/",
          "height": 419
        },
        "id": "AYfbKTwFi7DY",
        "outputId": "098a95cd-74b1-41aa-9445-750f03d135ee"
      },
      "source": [
        "stocks"
      ],
      "execution_count": 83,
      "outputs": [
        {
          "output_type": "execute_result",
          "data": {
            "text/html": [
              "<div>\n",
              "<style scoped>\n",
              "    .dataframe tbody tr th:only-of-type {\n",
              "        vertical-align: middle;\n",
              "    }\n",
              "\n",
              "    .dataframe tbody tr th {\n",
              "        vertical-align: top;\n",
              "    }\n",
              "\n",
              "    .dataframe thead th {\n",
              "        text-align: right;\n",
              "    }\n",
              "</style>\n",
              "<table border=\"1\" class=\"dataframe\">\n",
              "  <thead>\n",
              "    <tr style=\"text-align: right;\">\n",
              "      <th></th>\n",
              "      <th>ticker</th>\n",
              "    </tr>\n",
              "  </thead>\n",
              "  <tbody>\n",
              "    <tr>\n",
              "      <th>0</th>\n",
              "      <td>GME</td>\n",
              "    </tr>\n",
              "    <tr>\n",
              "      <th>1</th>\n",
              "      <td>BB</td>\n",
              "    </tr>\n",
              "    <tr>\n",
              "      <th>2</th>\n",
              "      <td>BB</td>\n",
              "    </tr>\n",
              "    <tr>\n",
              "      <th>3</th>\n",
              "      <td>GME</td>\n",
              "    </tr>\n",
              "    <tr>\n",
              "      <th>4</th>\n",
              "      <td>BB</td>\n",
              "    </tr>\n",
              "    <tr>\n",
              "      <th>...</th>\n",
              "      <td>...</td>\n",
              "    </tr>\n",
              "    <tr>\n",
              "      <th>159</th>\n",
              "      <td>GME</td>\n",
              "    </tr>\n",
              "    <tr>\n",
              "      <th>160</th>\n",
              "      <td>BB</td>\n",
              "    </tr>\n",
              "    <tr>\n",
              "      <th>161</th>\n",
              "      <td>AMC</td>\n",
              "    </tr>\n",
              "    <tr>\n",
              "      <th>162</th>\n",
              "      <td>BB</td>\n",
              "    </tr>\n",
              "    <tr>\n",
              "      <th>163</th>\n",
              "      <td>BB</td>\n",
              "    </tr>\n",
              "  </tbody>\n",
              "</table>\n",
              "<p>164 rows × 1 columns</p>\n",
              "</div>"
            ],
            "text/plain": [
              "    ticker\n",
              "0      GME\n",
              "1       BB\n",
              "2       BB\n",
              "3      GME\n",
              "4       BB\n",
              "..     ...\n",
              "159    GME\n",
              "160     BB\n",
              "161    AMC\n",
              "162     BB\n",
              "163     BB\n",
              "\n",
              "[164 rows x 1 columns]"
            ]
          },
          "metadata": {
            "tags": []
          },
          "execution_count": 83
        }
      ]
    },
    {
      "cell_type": "markdown",
      "metadata": {
        "id": "9aYKw5XNi_tg"
      },
      "source": [
        "Now I know it works I will make the other two lists into dataframes as well.\r\n"
      ]
    },
    {
      "cell_type": "code",
      "metadata": {
        "id": "TevoKE5sjD59"
      },
      "source": [
        "dfvmentions = pd.DataFrame (DFVlist, columns=['mention'])\r\n",
        "terms = pd.DataFrame (lingo, columns=['term'])"
      ],
      "execution_count": 93,
      "outputs": []
    },
    {
      "cell_type": "code",
      "metadata": {
        "colab": {
          "base_uri": "https://localhost:8080/",
          "height": 855
        },
        "id": "KKrTXxTdjTAQ",
        "outputId": "bd23a1e5-6c25-49d7-cab4-e11d50e8a765"
      },
      "source": [
        "dfvmentions"
      ],
      "execution_count": 94,
      "outputs": [
        {
          "output_type": "execute_result",
          "data": {
            "text/html": [
              "<div>\n",
              "<style scoped>\n",
              "    .dataframe tbody tr th:only-of-type {\n",
              "        vertical-align: middle;\n",
              "    }\n",
              "\n",
              "    .dataframe tbody tr th {\n",
              "        vertical-align: top;\n",
              "    }\n",
              "\n",
              "    .dataframe thead th {\n",
              "        text-align: right;\n",
              "    }\n",
              "</style>\n",
              "<table border=\"1\" class=\"dataframe\">\n",
              "  <thead>\n",
              "    <tr style=\"text-align: right;\">\n",
              "      <th></th>\n",
              "      <th>mention</th>\n",
              "    </tr>\n",
              "  </thead>\n",
              "  <tbody>\n",
              "    <tr>\n",
              "      <th>0</th>\n",
              "      <td>GME</td>\n",
              "    </tr>\n",
              "    <tr>\n",
              "      <th>1</th>\n",
              "      <td>GME</td>\n",
              "    </tr>\n",
              "    <tr>\n",
              "      <th>2</th>\n",
              "      <td>GME</td>\n",
              "    </tr>\n",
              "    <tr>\n",
              "      <th>3</th>\n",
              "      <td>GME</td>\n",
              "    </tr>\n",
              "    <tr>\n",
              "      <th>4</th>\n",
              "      <td>GME</td>\n",
              "    </tr>\n",
              "    <tr>\n",
              "      <th>5</th>\n",
              "      <td>GME</td>\n",
              "    </tr>\n",
              "    <tr>\n",
              "      <th>6</th>\n",
              "      <td>GME</td>\n",
              "    </tr>\n",
              "    <tr>\n",
              "      <th>7</th>\n",
              "      <td>GME</td>\n",
              "    </tr>\n",
              "    <tr>\n",
              "      <th>8</th>\n",
              "      <td>GME</td>\n",
              "    </tr>\n",
              "    <tr>\n",
              "      <th>9</th>\n",
              "      <td>GME</td>\n",
              "    </tr>\n",
              "    <tr>\n",
              "      <th>10</th>\n",
              "      <td>GME</td>\n",
              "    </tr>\n",
              "    <tr>\n",
              "      <th>11</th>\n",
              "      <td>GME</td>\n",
              "    </tr>\n",
              "    <tr>\n",
              "      <th>12</th>\n",
              "      <td>GME</td>\n",
              "    </tr>\n",
              "    <tr>\n",
              "      <th>13</th>\n",
              "      <td>GME</td>\n",
              "    </tr>\n",
              "    <tr>\n",
              "      <th>14</th>\n",
              "      <td>GME</td>\n",
              "    </tr>\n",
              "    <tr>\n",
              "      <th>15</th>\n",
              "      <td>GME</td>\n",
              "    </tr>\n",
              "    <tr>\n",
              "      <th>16</th>\n",
              "      <td>GME</td>\n",
              "    </tr>\n",
              "    <tr>\n",
              "      <th>17</th>\n",
              "      <td>GME</td>\n",
              "    </tr>\n",
              "    <tr>\n",
              "      <th>18</th>\n",
              "      <td>GME</td>\n",
              "    </tr>\n",
              "    <tr>\n",
              "      <th>19</th>\n",
              "      <td>GME</td>\n",
              "    </tr>\n",
              "    <tr>\n",
              "      <th>20</th>\n",
              "      <td>GME</td>\n",
              "    </tr>\n",
              "    <tr>\n",
              "      <th>21</th>\n",
              "      <td>GME</td>\n",
              "    </tr>\n",
              "    <tr>\n",
              "      <th>22</th>\n",
              "      <td>still in</td>\n",
              "    </tr>\n",
              "    <tr>\n",
              "      <th>23</th>\n",
              "      <td>GME</td>\n",
              "    </tr>\n",
              "    <tr>\n",
              "      <th>24</th>\n",
              "      <td>GME</td>\n",
              "    </tr>\n",
              "    <tr>\n",
              "      <th>25</th>\n",
              "      <td>like the stock</td>\n",
              "    </tr>\n",
              "  </tbody>\n",
              "</table>\n",
              "</div>"
            ],
            "text/plain": [
              "           mention\n",
              "0              GME\n",
              "1              GME\n",
              "2              GME\n",
              "3              GME\n",
              "4              GME\n",
              "5              GME\n",
              "6              GME\n",
              "7              GME\n",
              "8              GME\n",
              "9              GME\n",
              "10             GME\n",
              "11             GME\n",
              "12             GME\n",
              "13             GME\n",
              "14             GME\n",
              "15             GME\n",
              "16             GME\n",
              "17             GME\n",
              "18             GME\n",
              "19             GME\n",
              "20             GME\n",
              "21             GME\n",
              "22        still in\n",
              "23             GME\n",
              "24             GME\n",
              "25  like the stock"
            ]
          },
          "metadata": {
            "tags": []
          },
          "execution_count": 94
        }
      ]
    },
    {
      "cell_type": "code",
      "metadata": {
        "colab": {
          "base_uri": "https://localhost:8080/",
          "height": 1000
        },
        "id": "e0Sy7s0pjV3S",
        "outputId": "65aa4ef2-d4a4-4f7c-e7ac-0a46e1bf31db"
      },
      "source": [
        "terms"
      ],
      "execution_count": 87,
      "outputs": [
        {
          "output_type": "execute_result",
          "data": {
            "text/html": [
              "<div>\n",
              "<style scoped>\n",
              "    .dataframe tbody tr th:only-of-type {\n",
              "        vertical-align: middle;\n",
              "    }\n",
              "\n",
              "    .dataframe tbody tr th {\n",
              "        vertical-align: top;\n",
              "    }\n",
              "\n",
              "    .dataframe thead th {\n",
              "        text-align: right;\n",
              "    }\n",
              "</style>\n",
              "<table border=\"1\" class=\"dataframe\">\n",
              "  <thead>\n",
              "    <tr style=\"text-align: right;\">\n",
              "      <th></th>\n",
              "      <th>term</th>\n",
              "    </tr>\n",
              "  </thead>\n",
              "  <tbody>\n",
              "    <tr>\n",
              "      <th>0</th>\n",
              "      <td>paper hands</td>\n",
              "    </tr>\n",
              "    <tr>\n",
              "      <th>1</th>\n",
              "      <td>paper hands</td>\n",
              "    </tr>\n",
              "    <tr>\n",
              "      <th>2</th>\n",
              "      <td>hold</td>\n",
              "    </tr>\n",
              "    <tr>\n",
              "      <th>3</th>\n",
              "      <td>paper hands</td>\n",
              "    </tr>\n",
              "    <tr>\n",
              "      <th>4</th>\n",
              "      <td>hold</td>\n",
              "    </tr>\n",
              "    <tr>\n",
              "      <th>5</th>\n",
              "      <td>paper hands</td>\n",
              "    </tr>\n",
              "    <tr>\n",
              "      <th>6</th>\n",
              "      <td>hold</td>\n",
              "    </tr>\n",
              "    <tr>\n",
              "      <th>7</th>\n",
              "      <td>paper hands</td>\n",
              "    </tr>\n",
              "    <tr>\n",
              "      <th>8</th>\n",
              "      <td>hold</td>\n",
              "    </tr>\n",
              "    <tr>\n",
              "      <th>9</th>\n",
              "      <td>paper hands</td>\n",
              "    </tr>\n",
              "    <tr>\n",
              "      <th>10</th>\n",
              "      <td>paper hands</td>\n",
              "    </tr>\n",
              "    <tr>\n",
              "      <th>11</th>\n",
              "      <td>paper hands</td>\n",
              "    </tr>\n",
              "    <tr>\n",
              "      <th>12</th>\n",
              "      <td>diamond hands</td>\n",
              "    </tr>\n",
              "    <tr>\n",
              "      <th>13</th>\n",
              "      <td>paper hands</td>\n",
              "    </tr>\n",
              "    <tr>\n",
              "      <th>14</th>\n",
              "      <td>paper hands</td>\n",
              "    </tr>\n",
              "    <tr>\n",
              "      <th>15</th>\n",
              "      <td>paper hands</td>\n",
              "    </tr>\n",
              "    <tr>\n",
              "      <th>16</th>\n",
              "      <td>paper hands</td>\n",
              "    </tr>\n",
              "    <tr>\n",
              "      <th>17</th>\n",
              "      <td>hold</td>\n",
              "    </tr>\n",
              "    <tr>\n",
              "      <th>18</th>\n",
              "      <td>paper hands</td>\n",
              "    </tr>\n",
              "    <tr>\n",
              "      <th>19</th>\n",
              "      <td>paper hands</td>\n",
              "    </tr>\n",
              "    <tr>\n",
              "      <th>20</th>\n",
              "      <td>paper hands</td>\n",
              "    </tr>\n",
              "    <tr>\n",
              "      <th>21</th>\n",
              "      <td>paper hands</td>\n",
              "    </tr>\n",
              "    <tr>\n",
              "      <th>22</th>\n",
              "      <td>paper hands</td>\n",
              "    </tr>\n",
              "    <tr>\n",
              "      <th>23</th>\n",
              "      <td>paper hands</td>\n",
              "    </tr>\n",
              "    <tr>\n",
              "      <th>24</th>\n",
              "      <td>diamond hands</td>\n",
              "    </tr>\n",
              "    <tr>\n",
              "      <th>25</th>\n",
              "      <td>paper hands</td>\n",
              "    </tr>\n",
              "    <tr>\n",
              "      <th>26</th>\n",
              "      <td>paper hands</td>\n",
              "    </tr>\n",
              "    <tr>\n",
              "      <th>27</th>\n",
              "      <td>paper hands</td>\n",
              "    </tr>\n",
              "    <tr>\n",
              "      <th>28</th>\n",
              "      <td>paper hands</td>\n",
              "    </tr>\n",
              "    <tr>\n",
              "      <th>29</th>\n",
              "      <td>paper hands</td>\n",
              "    </tr>\n",
              "    <tr>\n",
              "      <th>30</th>\n",
              "      <td>tendies</td>\n",
              "    </tr>\n",
              "    <tr>\n",
              "      <th>31</th>\n",
              "      <td>paper hands</td>\n",
              "    </tr>\n",
              "    <tr>\n",
              "      <th>32</th>\n",
              "      <td>paper hands</td>\n",
              "    </tr>\n",
              "    <tr>\n",
              "      <th>33</th>\n",
              "      <td>diamond hands</td>\n",
              "    </tr>\n",
              "    <tr>\n",
              "      <th>34</th>\n",
              "      <td>paper hands</td>\n",
              "    </tr>\n",
              "    <tr>\n",
              "      <th>35</th>\n",
              "      <td>paper hands</td>\n",
              "    </tr>\n",
              "    <tr>\n",
              "      <th>36</th>\n",
              "      <td>hold</td>\n",
              "    </tr>\n",
              "    <tr>\n",
              "      <th>37</th>\n",
              "      <td>paper hands</td>\n",
              "    </tr>\n",
              "    <tr>\n",
              "      <th>38</th>\n",
              "      <td>paper hands</td>\n",
              "    </tr>\n",
              "    <tr>\n",
              "      <th>39</th>\n",
              "      <td>paper hands</td>\n",
              "    </tr>\n",
              "    <tr>\n",
              "      <th>40</th>\n",
              "      <td>paper hands</td>\n",
              "    </tr>\n",
              "    <tr>\n",
              "      <th>41</th>\n",
              "      <td>tendies</td>\n",
              "    </tr>\n",
              "    <tr>\n",
              "      <th>42</th>\n",
              "      <td>paper hands</td>\n",
              "    </tr>\n",
              "    <tr>\n",
              "      <th>43</th>\n",
              "      <td>paper hands</td>\n",
              "    </tr>\n",
              "    <tr>\n",
              "      <th>44</th>\n",
              "      <td>hold</td>\n",
              "    </tr>\n",
              "    <tr>\n",
              "      <th>45</th>\n",
              "      <td>paper hands</td>\n",
              "    </tr>\n",
              "    <tr>\n",
              "      <th>46</th>\n",
              "      <td>paper hands</td>\n",
              "    </tr>\n",
              "    <tr>\n",
              "      <th>47</th>\n",
              "      <td>paper hands</td>\n",
              "    </tr>\n",
              "    <tr>\n",
              "      <th>48</th>\n",
              "      <td>paper hands</td>\n",
              "    </tr>\n",
              "    <tr>\n",
              "      <th>49</th>\n",
              "      <td>hold</td>\n",
              "    </tr>\n",
              "    <tr>\n",
              "      <th>50</th>\n",
              "      <td>tendies</td>\n",
              "    </tr>\n",
              "  </tbody>\n",
              "</table>\n",
              "</div>"
            ],
            "text/plain": [
              "             term\n",
              "0     paper hands\n",
              "1     paper hands\n",
              "2            hold\n",
              "3     paper hands\n",
              "4            hold\n",
              "5     paper hands\n",
              "6            hold\n",
              "7     paper hands\n",
              "8            hold\n",
              "9     paper hands\n",
              "10    paper hands\n",
              "11    paper hands\n",
              "12  diamond hands\n",
              "13    paper hands\n",
              "14    paper hands\n",
              "15    paper hands\n",
              "16    paper hands\n",
              "17           hold\n",
              "18    paper hands\n",
              "19    paper hands\n",
              "20    paper hands\n",
              "21    paper hands\n",
              "22    paper hands\n",
              "23    paper hands\n",
              "24  diamond hands\n",
              "25    paper hands\n",
              "26    paper hands\n",
              "27    paper hands\n",
              "28    paper hands\n",
              "29    paper hands\n",
              "30        tendies\n",
              "31    paper hands\n",
              "32    paper hands\n",
              "33  diamond hands\n",
              "34    paper hands\n",
              "35    paper hands\n",
              "36           hold\n",
              "37    paper hands\n",
              "38    paper hands\n",
              "39    paper hands\n",
              "40    paper hands\n",
              "41        tendies\n",
              "42    paper hands\n",
              "43    paper hands\n",
              "44           hold\n",
              "45    paper hands\n",
              "46    paper hands\n",
              "47    paper hands\n",
              "48    paper hands\n",
              "49           hold\n",
              "50        tendies"
            ]
          },
          "metadata": {
            "tags": []
          },
          "execution_count": 87
        }
      ]
    },
    {
      "cell_type": "markdown",
      "metadata": {
        "id": "ZbHjI0HDj9zv"
      },
      "source": [
        "Know I have these dataframes, I can do some quick looks at the data. The stocks have more than 100 entries, meaning the titles often mentioned more than one of the stocks. DFV mentions only contained a term I looked for 25% of the time, could mean people jus tlike to talk about him for other reasons. Also the lingo terms only had 50 hits, but I pulled 100 titles. I think it has to do with the conjugation of terms I looked for."
      ]
    },
    {
      "cell_type": "markdown",
      "metadata": {
        "id": "nxi7XeT8odZ6"
      },
      "source": [
        "I want to get counts of each of my variables in each dataframe. then i will plot them, I want ratios so I will due pie charts.\r\n"
      ]
    },
    {
      "cell_type": "code",
      "metadata": {
        "colab": {
          "base_uri": "https://localhost:8080/"
        },
        "id": "Ugf9BuuRmAFI",
        "outputId": "50db8bfd-c77b-40a0-8514-63fc065a0cb7"
      },
      "source": [
        "stocks.ticker.value_counts()"
      ],
      "execution_count": 90,
      "outputs": [
        {
          "output_type": "execute_result",
          "data": {
            "text/plain": [
              "BB     97\n",
              "GME    40\n",
              "AMC    27\n",
              "Name: ticker, dtype: int64"
            ]
          },
          "metadata": {
            "tags": []
          },
          "execution_count": 90
        }
      ]
    },
    {
      "cell_type": "code",
      "metadata": {
        "colab": {
          "base_uri": "https://localhost:8080/"
        },
        "id": "iXB63OZwomFh",
        "outputId": "c84b80c2-a699-4ec8-e9ab-b86f6f6c8762"
      },
      "source": [
        "dfvmentions.mention.value_counts()"
      ],
      "execution_count": 95,
      "outputs": [
        {
          "output_type": "execute_result",
          "data": {
            "text/plain": [
              "GME               24\n",
              "still in           1\n",
              "like the stock     1\n",
              "Name: mention, dtype: int64"
            ]
          },
          "metadata": {
            "tags": []
          },
          "execution_count": 95
        }
      ]
    },
    {
      "cell_type": "code",
      "metadata": {
        "colab": {
          "base_uri": "https://localhost:8080/"
        },
        "id": "CD-cCfeOo6xH",
        "outputId": "3794abe3-0b55-4ed8-ae5f-1c0056f65d39"
      },
      "source": [
        "terms.term.value_counts()"
      ],
      "execution_count": 96,
      "outputs": [
        {
          "output_type": "execute_result",
          "data": {
            "text/plain": [
              "paper hands      37\n",
              "hold              8\n",
              "tendies           3\n",
              "diamond hands     3\n",
              "Name: term, dtype: int64"
            ]
          },
          "metadata": {
            "tags": []
          },
          "execution_count": 96
        }
      ]
    },
    {
      "cell_type": "markdown",
      "metadata": {
        "id": "CBsLAZHxpVP5"
      },
      "source": [
        "I can graph these now for a nice display of the data.\r\n"
      ]
    },
    {
      "cell_type": "code",
      "metadata": {
        "colab": {
          "base_uri": "https://localhost:8080/",
          "height": 265
        },
        "id": "iyUwf7f0pZpW",
        "outputId": "ee3287f3-bd41-4117-ceb8-6f64ea1c75dc"
      },
      "source": [
        "stocks.ticker.value_counts().plot.pie()"
      ],
      "execution_count": 98,
      "outputs": [
        {
          "output_type": "execute_result",
          "data": {
            "text/plain": [
              "<matplotlib.axes._subplots.AxesSubplot at 0x7f81e4a6a110>"
            ]
          },
          "metadata": {
            "tags": []
          },
          "execution_count": 98
        },
        {
          "output_type": "display_data",
          "data": {
            "image/png": "[encoded data removed]",
            "text/plain": [
              "<Figure size 432x288 with 1 Axes>"
            ]
          },
          "metadata": {
            "tags": []
          }
        }
      ]
    },
    {
      "cell_type": "code",
      "metadata": {
        "colab": {
          "base_uri": "https://localhost:8080/",
          "height": 265
        },
        "id": "HsID8uOeqF3F",
        "outputId": "93893037-6463-403f-c309-fecdfacbc360"
      },
      "source": [
        "terms.term.value_counts().plot.pie()"
      ],
      "execution_count": 99,
      "outputs": [
        {
          "output_type": "execute_result",
          "data": {
            "text/plain": [
              "<matplotlib.axes._subplots.AxesSubplot at 0x7f81e376d450>"
            ]
          },
          "metadata": {
            "tags": []
          },
          "execution_count": 99
        },
        {
          "output_type": "display_data",
          "data": {
            "image/png": "[encoded data removed]",
            "text/plain": [
              "<Figure size 432x288 with 1 Axes>"
            ]
          },
          "metadata": {
            "tags": []
          }
        }
      ]
    },
    {
      "cell_type": "code",
      "metadata": {
        "colab": {
          "base_uri": "https://localhost:8080/",
          "height": 265
        },
        "id": "1VlZ3-NDqKeE",
        "outputId": "086e3a4f-d649-47dd-9fcf-1f85c42ebe6b"
      },
      "source": [
        "dfvmentions.mention.value_counts().plot.pie()"
      ],
      "execution_count": 100,
      "outputs": [
        {
          "output_type": "execute_result",
          "data": {
            "text/plain": [
              "<matplotlib.axes._subplots.AxesSubplot at 0x7f81e323ffd0>"
            ]
          },
          "metadata": {
            "tags": []
          },
          "execution_count": 100
        },
        {
          "output_type": "display_data",
          "data": {
            "image/png": "[encoded data removed]",
            "text/plain": [
              "<Figure size 432x288 with 1 Axes>"
            ]
          },
          "metadata": {
            "tags": []
          }
        }
      ]
    },
    {
      "cell_type": "markdown",
      "metadata": {
        "id": "S--1O7-wqmXW"
      },
      "source": [
        "To go over my hunches or very basic hypothesis, I am on the right track with GME mentions with DFV if you only take the last 100 posts (Im almost positive if you go back a month you may find different answers.) However, 75% of his mentions do not have a term I looked for in them. Interesting, and more posts should be collected.\r\n",
        "\r\n",
        "The lingo is very telling about the vibe of the subreddit. Diamond hands refers to holding and not selling. Paper hands was by far the most common term used and could be being used as making fun or calling out those who have sold their shares. Emojis replacing the actual words is something to search for in the future.\r\n",
        "\r\n",
        "In regards to the mention of stocks, I was shocked that the last 100 posts were not dominated by GME. I want to only search for the ticker because it makes it easier on a trading page and not worry about spelling/ capitilization. BB being the over arching dominating mention for the last 100 posts is intriguing. Even to me as I have been watching the community for months. "
      ]
    }
  ]
}